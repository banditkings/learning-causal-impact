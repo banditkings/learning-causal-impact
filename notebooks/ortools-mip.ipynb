{
 "cells": [
  {
   "cell_type": "markdown",
   "metadata": {},
   "source": [
    "# Example Integer Programming Solver with OR Tools\n",
    "\n",
    "A hello world intro to mixed integer programming with or-tools.\n",
    "\n",
    "Recall our workflow:\n",
    "\n",
    "1. Import linear solver wrapper\n",
    "2. Declare the LP solver (i.e. `MPsolver`, `GLOP`)\n",
    "3. Create Variables (i.e. `solver.NumVar(lb, ub, name)`)\n",
    "4. Add Constraints `solver.Add`\n",
    "5. Define Objective `solver.Maximize()`\n",
    "6. Invoke the solver `solver.Solve()`\n",
    "7. Display the solution"
   ]
  },
  {
   "cell_type": "markdown",
   "metadata": {},
   "source": [
    "First, the preamble:"
   ]
  },
  {
   "cell_type": "code",
   "execution_count": 1,
   "metadata": {},
   "outputs": [],
   "source": [
    "# 1. Import solver wrapper\n",
    "from ortools.linear_solver import pywraplp"
   ]
  },
  {
   "cell_type": "markdown",
   "metadata": {},
   "source": [
    "## Scenario\n",
    "\n",
    "Let's imagine that we are a party of 4 adventurers and want to equip ourselves with weapons that do the most damage if we only have 20 coins in our budget. We come to a shopkeeper that sells bows, axes, spears, and swords but only has a limited number of each weapon. Which weapons should we buy to maximize our damage output while staying under our 20 coin budget?"
   ]
  },
  {
   "cell_type": "code",
   "execution_count": 2,
   "metadata": {},
   "outputs": [],
   "source": [
    "# Here's our imaginary dataset:\n",
    "names = ['bow', 'axe', 'spear', 'sword']\n",
    "\n",
    "data = {}\n",
    "data['damage'] = [6., 12., 6., 10.]     # Damage for each item\n",
    "data['cost'] = [5., 9., 4., 10.]        # Prices for each item\n",
    "data['inventory'] = [2, 1, 3, 1]        # Shopkeeper inventory\n",
    "\n",
    "# 2. Declare solver\n",
    "# Create the mip solver with the SCIP backend.\n",
    "solver = pywraplp.Solver.CreateSolver(\"SCIP\")"
   ]
  },
  {
   "cell_type": "markdown",
   "metadata": {},
   "source": [
    "We essentially just have 4 decision variables that are the number of weapon that we want to buy."
   ]
  },
  {
   "cell_type": "code",
   "execution_count": 3,
   "metadata": {},
   "outputs": [
    {
     "name": "stdout",
     "output_type": "stream",
     "text": [
      "Number of Variables:  4\n"
     ]
    }
   ],
   "source": [
    "# Array to hold our variables\n",
    "weapons = [solver.IntVar(0.0, solver.infinity(), name) for name in names]\n",
    "\n",
    "print(\"Number of Variables: \", solver.NumVariables())"
   ]
  },
  {
   "cell_type": "code",
   "execution_count": 4,
   "metadata": {},
   "outputs": [
    {
     "name": "stdout",
     "output_type": "stream",
     "text": [
      "Number of Constraints:  6\n"
     ]
    }
   ],
   "source": [
    "#Constraints\n",
    "\n",
    "cost_limit = 20\n",
    "# 0 <= 5a + 12b + 6c + 4d <= cost_limit\n",
    "constraint = solver.RowConstraint(0, cost_limit, \"Cost Constraint\")  # Sum of the coefficients must be less than or equal to the ub\n",
    "for i in range(4):\n",
    "    constraint.SetCoefficient(weapons[i], data['cost'][i])\n",
    "\n",
    "# Can also state it as:\n",
    "# constraint_expr = [data['weight'][i] * weapons[i] for i in range(4)]\n",
    "# solver.Add(sum(constraint_expr) <= weight_limit)\n",
    "\n",
    "# Inventory Level Constraint\n",
    "for i in range(4):\n",
    "    solver.Add(weapons[i] <= data['inventory'][i])\n",
    "\n",
    "# Need at least 4 weapons\n",
    "solver.Add(sum(weapons) >= 4)\n",
    "\n",
    "print(\"Number of Constraints: \", solver.NumConstraints())\n",
    "\n",
    "# Objective\n",
    "objective = solver.Objective()\n",
    "for j in range(4):\n",
    "    objective.SetCoefficient(weapons[j], data['damage'][j])\n",
    "objective.SetMaximization()\n"
   ]
  },
  {
   "cell_type": "code",
   "execution_count": 5,
   "metadata": {},
   "outputs": [
    {
     "name": "stdout",
     "output_type": "stream",
     "text": [
      "Solving with SCIP 8.0.4 [LP solver: Glop 9.8]\n",
      "Optimal Damage:  24.000000000000004\n",
      "bow 1.0\n",
      "axe 0.0\n",
      "spear 3.0\n",
      "sword 0.0\n"
     ]
    }
   ],
   "source": [
    "# Invoke solver\n",
    "print(f\"Solving with {solver.SolverVersion()}\")\n",
    "status = solver.Solve()\n",
    "\n",
    "print(\"Optimal Damage: \", solver.Objective().Value())\n",
    "for j in range(len(data['damage'])):\n",
    "    print(weapons[j], weapons[j].solution_value())"
   ]
  },
  {
   "cell_type": "markdown",
   "metadata": {},
   "source": [
    "# Promo Calendar Optimization\n",
    "\n",
    "We have 12 months, which months should we promote and what price should we sell at?"
   ]
  },
  {
   "cell_type": "code",
   "execution_count": 101,
   "metadata": {},
   "outputs": [
    {
     "data": {
      "application/vnd.plotly.v1+json": {
       "config": {
        "plotlyServerURL": "https://plot.ly"
       },
       "data": [
        {
         "hovertemplate": "variable=0<br>index=%{x}<br>value=%{y}<extra></extra>",
         "legendgroup": "0",
         "line": {
          "color": "#1F77B4",
          "dash": "solid"
         },
         "marker": {
          "symbol": "circle"
         },
         "mode": "lines",
         "name": "0",
         "orientation": "v",
         "showlegend": true,
         "type": "scatter",
         "x": [
          0,
          1,
          2,
          3,
          4,
          5,
          6,
          7,
          8,
          9,
          10,
          11
         ],
         "xaxis": "x",
         "y": [
          0.7689114234523167,
          0.6952313596962335,
          0.8301980696143585,
          0.5125785550505193,
          2.26006245420606,
          1.9570217745131633,
          1.62202812337993,
          1.3083696506336915,
          0.8962509597883185,
          0.5027302932174621,
          0.8079172112759759,
          0.7987068403977199
         ],
         "yaxis": "y"
        }
       ],
       "layout": {
        "legend": {
         "title": {
          "text": "variable"
         },
         "tracegroupgap": 0
        },
        "template": {
         "data": {
          "bar": [
           {
            "error_x": {
             "color": "rgb(36,36,36)"
            },
            "error_y": {
             "color": "rgb(36,36,36)"
            },
            "marker": {
             "line": {
              "color": "white",
              "width": 0.5
             },
             "pattern": {
              "fillmode": "overlay",
              "size": 10,
              "solidity": 0.2
             }
            },
            "type": "bar"
           }
          ],
          "barpolar": [
           {
            "marker": {
             "line": {
              "color": "white",
              "width": 0.5
             },
             "pattern": {
              "fillmode": "overlay",
              "size": 10,
              "solidity": 0.2
             }
            },
            "type": "barpolar"
           }
          ],
          "carpet": [
           {
            "aaxis": {
             "endlinecolor": "rgb(36,36,36)",
             "gridcolor": "white",
             "linecolor": "white",
             "minorgridcolor": "white",
             "startlinecolor": "rgb(36,36,36)"
            },
            "baxis": {
             "endlinecolor": "rgb(36,36,36)",
             "gridcolor": "white",
             "linecolor": "white",
             "minorgridcolor": "white",
             "startlinecolor": "rgb(36,36,36)"
            },
            "type": "carpet"
           }
          ],
          "choropleth": [
           {
            "colorbar": {
             "outlinewidth": 1,
             "tickcolor": "rgb(36,36,36)",
             "ticks": "outside"
            },
            "type": "choropleth"
           }
          ],
          "contour": [
           {
            "colorbar": {
             "outlinewidth": 1,
             "tickcolor": "rgb(36,36,36)",
             "ticks": "outside"
            },
            "colorscale": [
             [
              0,
              "#440154"
             ],
             [
              0.1111111111111111,
              "#482878"
             ],
             [
              0.2222222222222222,
              "#3e4989"
             ],
             [
              0.3333333333333333,
              "#31688e"
             ],
             [
              0.4444444444444444,
              "#26828e"
             ],
             [
              0.5555555555555556,
              "#1f9e89"
             ],
             [
              0.6666666666666666,
              "#35b779"
             ],
             [
              0.7777777777777778,
              "#6ece58"
             ],
             [
              0.8888888888888888,
              "#b5de2b"
             ],
             [
              1,
              "#fde725"
             ]
            ],
            "type": "contour"
           }
          ],
          "contourcarpet": [
           {
            "colorbar": {
             "outlinewidth": 1,
             "tickcolor": "rgb(36,36,36)",
             "ticks": "outside"
            },
            "type": "contourcarpet"
           }
          ],
          "heatmap": [
           {
            "colorbar": {
             "outlinewidth": 1,
             "tickcolor": "rgb(36,36,36)",
             "ticks": "outside"
            },
            "colorscale": [
             [
              0,
              "#440154"
             ],
             [
              0.1111111111111111,
              "#482878"
             ],
             [
              0.2222222222222222,
              "#3e4989"
             ],
             [
              0.3333333333333333,
              "#31688e"
             ],
             [
              0.4444444444444444,
              "#26828e"
             ],
             [
              0.5555555555555556,
              "#1f9e89"
             ],
             [
              0.6666666666666666,
              "#35b779"
             ],
             [
              0.7777777777777778,
              "#6ece58"
             ],
             [
              0.8888888888888888,
              "#b5de2b"
             ],
             [
              1,
              "#fde725"
             ]
            ],
            "type": "heatmap"
           }
          ],
          "heatmapgl": [
           {
            "colorbar": {
             "outlinewidth": 1,
             "tickcolor": "rgb(36,36,36)",
             "ticks": "outside"
            },
            "colorscale": [
             [
              0,
              "#440154"
             ],
             [
              0.1111111111111111,
              "#482878"
             ],
             [
              0.2222222222222222,
              "#3e4989"
             ],
             [
              0.3333333333333333,
              "#31688e"
             ],
             [
              0.4444444444444444,
              "#26828e"
             ],
             [
              0.5555555555555556,
              "#1f9e89"
             ],
             [
              0.6666666666666666,
              "#35b779"
             ],
             [
              0.7777777777777778,
              "#6ece58"
             ],
             [
              0.8888888888888888,
              "#b5de2b"
             ],
             [
              1,
              "#fde725"
             ]
            ],
            "type": "heatmapgl"
           }
          ],
          "histogram": [
           {
            "marker": {
             "line": {
              "color": "white",
              "width": 0.6
             }
            },
            "type": "histogram"
           }
          ],
          "histogram2d": [
           {
            "colorbar": {
             "outlinewidth": 1,
             "tickcolor": "rgb(36,36,36)",
             "ticks": "outside"
            },
            "colorscale": [
             [
              0,
              "#440154"
             ],
             [
              0.1111111111111111,
              "#482878"
             ],
             [
              0.2222222222222222,
              "#3e4989"
             ],
             [
              0.3333333333333333,
              "#31688e"
             ],
             [
              0.4444444444444444,
              "#26828e"
             ],
             [
              0.5555555555555556,
              "#1f9e89"
             ],
             [
              0.6666666666666666,
              "#35b779"
             ],
             [
              0.7777777777777778,
              "#6ece58"
             ],
             [
              0.8888888888888888,
              "#b5de2b"
             ],
             [
              1,
              "#fde725"
             ]
            ],
            "type": "histogram2d"
           }
          ],
          "histogram2dcontour": [
           {
            "colorbar": {
             "outlinewidth": 1,
             "tickcolor": "rgb(36,36,36)",
             "ticks": "outside"
            },
            "colorscale": [
             [
              0,
              "#440154"
             ],
             [
              0.1111111111111111,
              "#482878"
             ],
             [
              0.2222222222222222,
              "#3e4989"
             ],
             [
              0.3333333333333333,
              "#31688e"
             ],
             [
              0.4444444444444444,
              "#26828e"
             ],
             [
              0.5555555555555556,
              "#1f9e89"
             ],
             [
              0.6666666666666666,
              "#35b779"
             ],
             [
              0.7777777777777778,
              "#6ece58"
             ],
             [
              0.8888888888888888,
              "#b5de2b"
             ],
             [
              1,
              "#fde725"
             ]
            ],
            "type": "histogram2dcontour"
           }
          ],
          "mesh3d": [
           {
            "colorbar": {
             "outlinewidth": 1,
             "tickcolor": "rgb(36,36,36)",
             "ticks": "outside"
            },
            "type": "mesh3d"
           }
          ],
          "parcoords": [
           {
            "line": {
             "colorbar": {
              "outlinewidth": 1,
              "tickcolor": "rgb(36,36,36)",
              "ticks": "outside"
             }
            },
            "type": "parcoords"
           }
          ],
          "pie": [
           {
            "automargin": true,
            "type": "pie"
           }
          ],
          "scatter": [
           {
            "fillpattern": {
             "fillmode": "overlay",
             "size": 10,
             "solidity": 0.2
            },
            "type": "scatter"
           }
          ],
          "scatter3d": [
           {
            "line": {
             "colorbar": {
              "outlinewidth": 1,
              "tickcolor": "rgb(36,36,36)",
              "ticks": "outside"
             }
            },
            "marker": {
             "colorbar": {
              "outlinewidth": 1,
              "tickcolor": "rgb(36,36,36)",
              "ticks": "outside"
             }
            },
            "type": "scatter3d"
           }
          ],
          "scattercarpet": [
           {
            "marker": {
             "colorbar": {
              "outlinewidth": 1,
              "tickcolor": "rgb(36,36,36)",
              "ticks": "outside"
             }
            },
            "type": "scattercarpet"
           }
          ],
          "scattergeo": [
           {
            "marker": {
             "colorbar": {
              "outlinewidth": 1,
              "tickcolor": "rgb(36,36,36)",
              "ticks": "outside"
             }
            },
            "type": "scattergeo"
           }
          ],
          "scattergl": [
           {
            "marker": {
             "colorbar": {
              "outlinewidth": 1,
              "tickcolor": "rgb(36,36,36)",
              "ticks": "outside"
             }
            },
            "type": "scattergl"
           }
          ],
          "scattermapbox": [
           {
            "marker": {
             "colorbar": {
              "outlinewidth": 1,
              "tickcolor": "rgb(36,36,36)",
              "ticks": "outside"
             }
            },
            "type": "scattermapbox"
           }
          ],
          "scatterpolar": [
           {
            "marker": {
             "colorbar": {
              "outlinewidth": 1,
              "tickcolor": "rgb(36,36,36)",
              "ticks": "outside"
             }
            },
            "type": "scatterpolar"
           }
          ],
          "scatterpolargl": [
           {
            "marker": {
             "colorbar": {
              "outlinewidth": 1,
              "tickcolor": "rgb(36,36,36)",
              "ticks": "outside"
             }
            },
            "type": "scatterpolargl"
           }
          ],
          "scatterternary": [
           {
            "marker": {
             "colorbar": {
              "outlinewidth": 1,
              "tickcolor": "rgb(36,36,36)",
              "ticks": "outside"
             }
            },
            "type": "scatterternary"
           }
          ],
          "surface": [
           {
            "colorbar": {
             "outlinewidth": 1,
             "tickcolor": "rgb(36,36,36)",
             "ticks": "outside"
            },
            "colorscale": [
             [
              0,
              "#440154"
             ],
             [
              0.1111111111111111,
              "#482878"
             ],
             [
              0.2222222222222222,
              "#3e4989"
             ],
             [
              0.3333333333333333,
              "#31688e"
             ],
             [
              0.4444444444444444,
              "#26828e"
             ],
             [
              0.5555555555555556,
              "#1f9e89"
             ],
             [
              0.6666666666666666,
              "#35b779"
             ],
             [
              0.7777777777777778,
              "#6ece58"
             ],
             [
              0.8888888888888888,
              "#b5de2b"
             ],
             [
              1,
              "#fde725"
             ]
            ],
            "type": "surface"
           }
          ],
          "table": [
           {
            "cells": {
             "fill": {
              "color": "rgb(237,237,237)"
             },
             "line": {
              "color": "white"
             }
            },
            "header": {
             "fill": {
              "color": "rgb(217,217,217)"
             },
             "line": {
              "color": "white"
             }
            },
            "type": "table"
           }
          ]
         },
         "layout": {
          "annotationdefaults": {
           "arrowhead": 0,
           "arrowwidth": 1
          },
          "autotypenumbers": "strict",
          "coloraxis": {
           "colorbar": {
            "outlinewidth": 1,
            "tickcolor": "rgb(36,36,36)",
            "ticks": "outside"
           }
          },
          "colorscale": {
           "diverging": [
            [
             0,
             "rgb(103,0,31)"
            ],
            [
             0.1,
             "rgb(178,24,43)"
            ],
            [
             0.2,
             "rgb(214,96,77)"
            ],
            [
             0.3,
             "rgb(244,165,130)"
            ],
            [
             0.4,
             "rgb(253,219,199)"
            ],
            [
             0.5,
             "rgb(247,247,247)"
            ],
            [
             0.6,
             "rgb(209,229,240)"
            ],
            [
             0.7,
             "rgb(146,197,222)"
            ],
            [
             0.8,
             "rgb(67,147,195)"
            ],
            [
             0.9,
             "rgb(33,102,172)"
            ],
            [
             1,
             "rgb(5,48,97)"
            ]
           ],
           "sequential": [
            [
             0,
             "#440154"
            ],
            [
             0.1111111111111111,
             "#482878"
            ],
            [
             0.2222222222222222,
             "#3e4989"
            ],
            [
             0.3333333333333333,
             "#31688e"
            ],
            [
             0.4444444444444444,
             "#26828e"
            ],
            [
             0.5555555555555556,
             "#1f9e89"
            ],
            [
             0.6666666666666666,
             "#35b779"
            ],
            [
             0.7777777777777778,
             "#6ece58"
            ],
            [
             0.8888888888888888,
             "#b5de2b"
            ],
            [
             1,
             "#fde725"
            ]
           ],
           "sequentialminus": [
            [
             0,
             "#440154"
            ],
            [
             0.1111111111111111,
             "#482878"
            ],
            [
             0.2222222222222222,
             "#3e4989"
            ],
            [
             0.3333333333333333,
             "#31688e"
            ],
            [
             0.4444444444444444,
             "#26828e"
            ],
            [
             0.5555555555555556,
             "#1f9e89"
            ],
            [
             0.6666666666666666,
             "#35b779"
            ],
            [
             0.7777777777777778,
             "#6ece58"
            ],
            [
             0.8888888888888888,
             "#b5de2b"
            ],
            [
             1,
             "#fde725"
            ]
           ]
          },
          "colorway": [
           "#1F77B4",
           "#FF7F0E",
           "#2CA02C",
           "#D62728",
           "#9467BD",
           "#8C564B",
           "#E377C2",
           "#7F7F7F",
           "#BCBD22",
           "#17BECF"
          ],
          "font": {
           "color": "rgb(36,36,36)"
          },
          "geo": {
           "bgcolor": "white",
           "lakecolor": "white",
           "landcolor": "white",
           "showlakes": true,
           "showland": true,
           "subunitcolor": "white"
          },
          "hoverlabel": {
           "align": "left"
          },
          "hovermode": "closest",
          "mapbox": {
           "style": "light"
          },
          "paper_bgcolor": "white",
          "plot_bgcolor": "white",
          "polar": {
           "angularaxis": {
            "gridcolor": "rgb(232,232,232)",
            "linecolor": "rgb(36,36,36)",
            "showgrid": false,
            "showline": true,
            "ticks": "outside"
           },
           "bgcolor": "white",
           "radialaxis": {
            "gridcolor": "rgb(232,232,232)",
            "linecolor": "rgb(36,36,36)",
            "showgrid": false,
            "showline": true,
            "ticks": "outside"
           }
          },
          "scene": {
           "xaxis": {
            "backgroundcolor": "white",
            "gridcolor": "rgb(232,232,232)",
            "gridwidth": 2,
            "linecolor": "rgb(36,36,36)",
            "showbackground": true,
            "showgrid": false,
            "showline": true,
            "ticks": "outside",
            "zeroline": false,
            "zerolinecolor": "rgb(36,36,36)"
           },
           "yaxis": {
            "backgroundcolor": "white",
            "gridcolor": "rgb(232,232,232)",
            "gridwidth": 2,
            "linecolor": "rgb(36,36,36)",
            "showbackground": true,
            "showgrid": false,
            "showline": true,
            "ticks": "outside",
            "zeroline": false,
            "zerolinecolor": "rgb(36,36,36)"
           },
           "zaxis": {
            "backgroundcolor": "white",
            "gridcolor": "rgb(232,232,232)",
            "gridwidth": 2,
            "linecolor": "rgb(36,36,36)",
            "showbackground": true,
            "showgrid": false,
            "showline": true,
            "ticks": "outside",
            "zeroline": false,
            "zerolinecolor": "rgb(36,36,36)"
           }
          },
          "shapedefaults": {
           "fillcolor": "black",
           "line": {
            "width": 0
           },
           "opacity": 0.3
          },
          "ternary": {
           "aaxis": {
            "gridcolor": "rgb(232,232,232)",
            "linecolor": "rgb(36,36,36)",
            "showgrid": false,
            "showline": true,
            "ticks": "outside"
           },
           "baxis": {
            "gridcolor": "rgb(232,232,232)",
            "linecolor": "rgb(36,36,36)",
            "showgrid": false,
            "showline": true,
            "ticks": "outside"
           },
           "bgcolor": "white",
           "caxis": {
            "gridcolor": "rgb(232,232,232)",
            "linecolor": "rgb(36,36,36)",
            "showgrid": false,
            "showline": true,
            "ticks": "outside"
           }
          },
          "title": {
           "x": 0.05
          },
          "xaxis": {
           "automargin": true,
           "gridcolor": "rgb(232,232,232)",
           "linecolor": "rgb(36,36,36)",
           "showgrid": false,
           "showline": true,
           "ticks": "outside",
           "title": {
            "standoff": 15
           },
           "zeroline": false,
           "zerolinecolor": "rgb(36,36,36)"
          },
          "yaxis": {
           "automargin": true,
           "gridcolor": "rgb(232,232,232)",
           "linecolor": "rgb(36,36,36)",
           "showgrid": false,
           "showline": true,
           "ticks": "outside",
           "title": {
            "standoff": 15
           },
           "zeroline": false,
           "zerolinecolor": "rgb(36,36,36)"
          }
         }
        },
        "title": {
         "text": "Seasonality"
        },
        "xaxis": {
         "anchor": "y",
         "domain": [
          0,
          1
         ],
         "title": {
          "text": "index"
         }
        },
        "yaxis": {
         "anchor": "x",
         "domain": [
          0,
          1
         ],
         "title": {
          "text": "value"
         }
        }
       }
      }
     },
     "metadata": {},
     "output_type": "display_data"
    }
   ],
   "source": [
    "import numpy as np\n",
    "import plotly.express as px\n",
    "import pandas as pd\n",
    "import matplotlib.pyplot as plt\n",
    "\n",
    "# Constants\n",
    "elasticity = -1.5\n",
    "baseline_price = 10\n",
    "# baseline_price = 11.46\n",
    "cost = 4\n",
    "baseline_sales = 20\n",
    "month_nums = range(12)\n",
    "\n",
    "# Simulate Seasonality \n",
    "np.random.seed(99)\n",
    "\n",
    "# Seasonality factors\n",
    "seasonality = [np.random.uniform(1.25, 2.5) if m >= 4 and m <= 7 else\n",
    "               np.random.uniform(0.5, 0.9) for m in month_nums]\n",
    "\n",
    "px.line(seasonality, title='Seasonality', template='simple_white')"
   ]
  },
  {
   "cell_type": "markdown",
   "metadata": {},
   "source": [
    "We can use the estimated price elasticity of demand to find the price that will optimize revenue. "
   ]
  },
  {
   "cell_type": "markdown",
   "metadata": {},
   "source": [
    "Imagine we used a log-log regression model to get the coefficients. Then if elasticity is $-1.5$, then a 10% decrease in price multiplies the demand by $e^{-1.5 * \\log(0.9)} = 1.17$ or a 17% increase in demand"
   ]
  },
  {
   "cell_type": "code",
   "execution_count": 102,
   "metadata": {},
   "outputs": [
    {
     "data": {
      "image/png": "[encoded data removed]",
      "text/plain": [
       "<Figure size 640x480 with 1 Axes>"
      ]
     },
     "metadata": {},
     "output_type": "display_data"
    }
   ],
   "source": [
    "# Consider discounts between 10-50% off\n",
    "discount = np.linspace(-0.1, -0.5, 100) # pct off\n",
    "prices = (1 + discount) * baseline_price\n",
    "\n",
    "def revenue_fn(discount, baseline_price, elasticity, baseline_sales):\n",
    "    \"\"\"Calculate revenues with different discount and elasticity scenarios\"\"\"\n",
    "    chg = elasticity * np.log(1+discount)\n",
    "    demand = baseline_sales * np.exp(chg)\n",
    "    return demand * ((1 + discount) * baseline_price - cost) * -1 # for the minimization function\n",
    "\n",
    "# Note we need to flip the sign for our plot\n",
    "promo_revenue = -revenue_fn(discount, baseline_price, elasticity, baseline_sales)\n",
    "\n",
    "# Find maximum using our grid approximation\n",
    "optimal_price = prices[np.argmax(promo_revenue)]\n",
    "optimal_price = np.round(optimal_price, 2)\n",
    "\n",
    "# Plot the curve of Price and Revenue\n",
    "plt.plot(prices, promo_revenue, label=f'Elasticity: {elasticity}')\n",
    "plt.axvline(optimal_price, linestyle='dashed', color='grey', label=f'optimal_price: {optimal_price}')\n",
    "plt.title(\"Price vs Revenue\")\n",
    "plt.xlabel(\"Price\")\n",
    "plt.ylabel(\"Revenue\")\n",
    "plt.legend();"
   ]
  },
  {
   "cell_type": "markdown",
   "metadata": {},
   "source": [
    "Basically with this model, any time elasticity is $\\lt -1$ you will always want to discount as much as possible. But this model doesn't take into account other important factors, but for now let's stick with it."
   ]
  },
  {
   "cell_type": "markdown",
   "metadata": {},
   "source": [
    "We can also find the optimum using `scipy.optimize` instead of the grid approximation and get a more precise answer:"
   ]
  },
  {
   "cell_type": "code",
   "execution_count": 90,
   "metadata": {},
   "outputs": [
    {
     "name": "stdout",
     "output_type": "stream",
     "text": [
      "Optimal Discount:  -0.10000624229466601\n",
      "Optimal Price:  9.0\n"
     ]
    }
   ],
   "source": [
    "from scipy.optimize import minimize_scalar\n",
    "\n",
    "res = minimize_scalar(revenue_fn, args=(baseline_price, elasticity, baseline_sales), bounds=[-0.5, -0.1], method='bounded')\n",
    "optimal_discount = res.x\n",
    "print(\"Optimal Discount: \", optimal_discount)\n",
    "optimal_price = baseline_price * (1 + optimal_discount)\n",
    "optimal_price = np.round(optimal_price, 2)\n",
    "print(\"Optimal Price: \", optimal_price)"
   ]
  },
  {
   "cell_type": "markdown",
   "metadata": {},
   "source": [
    "So the ideal discount is about 50% to get to a \\$5 price.\n",
    "\n",
    "Next, we take this optimal price and find the optimal months that we should run this promotion:"
   ]
  },
  {
   "cell_type": "code",
   "execution_count": 91,
   "metadata": {},
   "outputs": [
    {
     "name": "stdout",
     "output_type": "stream",
     "text": [
      "Number of variables:  24\n",
      "Solution: \n",
      "Objective value = 2622.4434518167072\n",
      "promo_month_4 = 1.0\n",
      "promo_month_5 = 1.0\n",
      "promo_month_6 = 1.0\n",
      "promo_month_7 = 1.0\n"
     ]
    }
   ],
   "source": [
    "# 2. Declare solver\n",
    "# Create the mip solver with the SCIP backend.\n",
    "promo_solver = pywraplp.Solver.CreateSolver(\"SCIP\")\n",
    "\n",
    "# Decision Variables\n",
    "\n",
    "# Which months to promote?\n",
    "promo_months = [promo_solver.BoolVar(f\"promo_month_{i}\") for i in month_nums]\n",
    "reg_months = [promo_solver.BoolVar(f\"reg_month_{i}\") for i in month_nums]\n",
    "\n",
    "print(\"Number of variables: \", promo_solver.NumVariables())\n",
    "\n",
    "# Constraints\n",
    "# No more than 4 months of promotions but at least 1 promotion per year\n",
    "promo_solver.Add(sum(promo_months) <= 4)\n",
    "promo_solver.Add(sum(promo_months) >= 1)\n",
    "\n",
    "# Constraint that either we have a regular month or a promo month\n",
    "for i in month_nums:\n",
    "    promo_solver.Add(promo_months[i] + reg_months[i] == 1)\n",
    "\n",
    "# Objective Function\n",
    "# Calculate unit sales\n",
    "\n",
    "# Demand\n",
    "promo_price = optimal_price # from previous step\n",
    "discount_pct = (promo_price/baseline_price) - 1\n",
    "\n",
    "monthly_sales = []\n",
    "for i in month_nums:\n",
    "    # Calculate either promo sales or reg sales depending on the decision variable\n",
    "    _promo_sales = baseline_sales * seasonality[i] * np.exp(elasticity * np.log(1+discount_pct)) * promo_price * promo_months[i]\n",
    "    _reg_sales = baseline_sales * seasonality[i] * baseline_price * reg_months[i]\n",
    "    monthly_sales.append(sum([_promo_sales, _reg_sales]))\n",
    "\n",
    "total_revenue = sum(monthly_sales)\n",
    "promo_solver.Maximize(total_revenue)\n",
    "\n",
    "status = promo_solver.Solve()\n",
    "if status == pywraplp.Solver.OPTIMAL:\n",
    "    print(\"Solution: \")\n",
    "    print(\"Objective value =\", promo_solver.Objective().Value())\n",
    "    for i in month_nums:\n",
    "        if promo_months[i].solution_value() >0:\n",
    "            print(f\"promo_month_{i} =\", promo_months[i].solution_value())"
   ]
  },
  {
   "cell_type": "markdown",
   "metadata": {},
   "source": [
    "And we notice that the optimal months just happen to fall in those summer months. So in general what it's basically saying is for products that have this level of price elasticity, we should run this promotion during the busy season and avoid promoting when it's not busy. If elasticity was low (i.e. between -1 and 0), then we have the opposite recommendation and we should only promote when demand is low (if we have to run a promotion at all)."
   ]
  },
  {
   "cell_type": "markdown",
   "metadata": {},
   "source": [
    "## What if elasticity is random?\n",
    "\n",
    "The optimal promotional price then becomes the price that maximizes *expected* revenue. That is, we need to estimate probabilities."
   ]
  },
  {
   "cell_type": "markdown",
   "metadata": {},
   "source": [
    "It only really matters if it's elastic or inelastic, according to this simple model. If it's elastic, then you always want to discount as much as possible, but if it's inelastic then you should never discount because it's not worth it.\n",
    "\n",
    "So how should one think about it?"
   ]
  },
  {
   "cell_type": "code",
   "execution_count": null,
   "metadata": {},
   "outputs": [],
   "source": []
  },
  {
   "cell_type": "code",
   "execution_count": null,
   "metadata": {},
   "outputs": [],
   "source": []
  },
  {
   "cell_type": "markdown",
   "metadata": {},
   "source": [
    "## What if there's cross elasticity?"
   ]
  },
  {
   "cell_type": "code",
   "execution_count": 92,
   "metadata": {},
   "outputs": [],
   "source": [
    "def cross_revenue_fn(discount, baseline_price, elasticity, baseline_sales, cross_elasticity, comp_discount):\n",
    "    \"\"\"Calculate revenues with different discount and elasticity scenarios\"\"\"\n",
    "    chg = (elasticity * np.log(1+discount)) + (cross_elasticity * np.log(1+comp_discount))\n",
    "    demand = baseline_sales * np.exp(chg)\n",
    "    return -demand * ((1 + discount) * baseline_price - cost)"
   ]
  },
  {
   "cell_type": "code",
   "execution_count": 93,
   "metadata": {},
   "outputs": [],
   "source": [
    "cross_elasticity = 1.2\n",
    "comp_discount = -0.15\n",
    "xrev = -cross_revenue_fn(discount, baseline_price, elasticity, baseline_sales, cross_elasticity, comp_discount)\n",
    "xrev2 = -cross_revenue_fn(discount, baseline_price, elasticity, baseline_sales, cross_elasticity, -0.3)\n",
    "xrev3 = -cross_revenue_fn(discount, baseline_price, elasticity, baseline_sales, 1.75, comp_discount)\n",
    "xrev4 = -cross_revenue_fn(discount, baseline_price, elasticity, baseline_sales, 1.75, -0.3)"
   ]
  },
  {
   "cell_type": "code",
   "execution_count": 94,
   "metadata": {},
   "outputs": [
    {
     "data": {
      "text/plain": [
       "<matplotlib.legend.Legend at 0x154683700>"
      ]
     },
     "execution_count": 94,
     "metadata": {},
     "output_type": "execute_result"
    },
    {
     "data": {
      "image/png": "[encoded data removed]",
      "text/plain": [
       "<Figure size 640x480 with 1 Axes>"
      ]
     },
     "metadata": {},
     "output_type": "display_data"
    }
   ],
   "source": [
    "plt.plot(prices, xrev, label='-0.15')\n",
    "plt.plot(prices, xrev2, label='-0.3')\n",
    "plt.plot(prices, xrev3, label='1.75 elas')\n",
    "plt.plot(prices, xrev4, label='1.75 elas, -0.3 discount')\n",
    "plt.legend()"
   ]
  },
  {
   "cell_type": "markdown",
   "metadata": {},
   "source": [
    "It doesn't seem to change the optimal price offering at all in this model - changing the comp discount just shifts the entire curve up/down and the cross elasticity just flattens/smooths the curve."
   ]
  },
  {
   "cell_type": "markdown",
   "metadata": {},
   "source": [
    "## What if difference in price matters?\n",
    "\n",
    "Let's say that we add an interaction term that's the difference in price rather than the cross elasticity, how would that affect our revenue curve?\n",
    "\n",
    "So then every time our price changes, the difference in price should change, as well.\n",
    "\n",
    "In second thought, this may be a bad idea"
   ]
  },
  {
   "cell_type": "code",
   "execution_count": 95,
   "metadata": {},
   "outputs": [
    {
     "data": {
      "image/svg+xml": [
       "<?xml version=\"1.0\" encoding=\"UTF-8\" standalone=\"no\"?>\n",
       "<!DOCTYPE svg PUBLIC \"-//W3C//DTD SVG 1.1//EN\"\n",
       " \"http://www.w3.org/Graphics/SVG/1.1/DTD/svg11.dtd\">\n",
       "<!-- Generated by graphviz version 8.0.4 (20230421.1958)\n",
       " -->\n",
       "<!-- Title: dag Pages: 1 -->\n",
       "<svg width=\"231pt\" height=\"188pt\"\n",
       " viewBox=\"0.00 0.00 230.58 188.00\" xmlns=\"http://www.w3.org/2000/svg\" xmlns:xlink=\"http://www.w3.org/1999/xlink\">\n",
       "<g id=\"graph0\" class=\"graph\" transform=\"scale(1 1) rotate(0) translate(4 184)\">\n",
       "<title>dag</title>\n",
       "<polygon fill=\"white\" stroke=\"none\" points=\"-4,4 -4,-184 226.58,-184 226.58,4 -4,4\"/>\n",
       "<!-- LogPrice -->\n",
       "<g id=\"node1\" class=\"node\">\n",
       "<title>LogPrice</title>\n",
       "<ellipse fill=\"none\" stroke=\"black\" cx=\"44.7\" cy=\"-162\" rx=\"44.7\" ry=\"18\"/>\n",
       "<text text-anchor=\"middle\" x=\"44.7\" y=\"-156.95\" font-family=\"Times,serif\" font-size=\"14.00\">LogPrice</text>\n",
       "</g>\n",
       "<!-- LogSales -->\n",
       "<g id=\"node2\" class=\"node\">\n",
       "<title>LogSales</title>\n",
       "<ellipse fill=\"none\" stroke=\"black\" cx=\"102.7\" cy=\"-18\" rx=\"45.21\" ry=\"18\"/>\n",
       "<text text-anchor=\"middle\" x=\"102.7\" y=\"-12.95\" font-family=\"Times,serif\" font-size=\"14.00\">LogSales</text>\n",
       "</g>\n",
       "<!-- LogPrice&#45;&gt;LogSales -->\n",
       "<g id=\"edge1\" class=\"edge\">\n",
       "<title>LogPrice&#45;&gt;LogSales</title>\n",
       "<path fill=\"none\" stroke=\"black\" d=\"M41.02,-143.76C37.92,-125.18 35.45,-95.18 45.7,-72 51.12,-59.74 60.9,-49.02 70.85,-40.49\"/>\n",
       "<polygon fill=\"black\" stroke=\"black\" points=\"72.53,-42.83 78.15,-33.86 68.16,-37.36 72.53,-42.83\"/>\n",
       "</g>\n",
       "<!-- Price_diff -->\n",
       "<g id=\"node3\" class=\"node\">\n",
       "<title>Price_diff</title>\n",
       "<ellipse fill=\"none\" stroke=\"black\" cx=\"102.7\" cy=\"-90\" rx=\"47.77\" ry=\"18\"/>\n",
       "<text text-anchor=\"middle\" x=\"102.7\" y=\"-84.95\" font-family=\"Times,serif\" font-size=\"14.00\">Price_diff</text>\n",
       "</g>\n",
       "<!-- LogPrice&#45;&gt;Price_diff -->\n",
       "<g id=\"edge3\" class=\"edge\">\n",
       "<title>LogPrice&#45;&gt;Price_diff</title>\n",
       "<path fill=\"none\" stroke=\"black\" d=\"M58.44,-144.41C65.52,-135.87 74.3,-125.28 82.16,-115.79\"/>\n",
       "<polygon fill=\"black\" stroke=\"black\" points=\"85.37,-118.4 89.05,-108.47 79.98,-113.94 85.37,-118.4\"/>\n",
       "</g>\n",
       "<!-- Price_diff&#45;&gt;LogSales -->\n",
       "<g id=\"edge2\" class=\"edge\">\n",
       "<title>Price_diff&#45;&gt;LogSales</title>\n",
       "<path fill=\"none\" stroke=\"black\" d=\"M102.7,-71.7C102.7,-64.24 102.7,-55.32 102.7,-46.97\"/>\n",
       "<polygon fill=\"black\" stroke=\"black\" points=\"106.2,-47.1 102.7,-37.1 99.2,-47.1 106.2,-47.1\"/>\n",
       "</g>\n",
       "<!-- CompPrice -->\n",
       "<g id=\"node4\" class=\"node\">\n",
       "<title>CompPrice</title>\n",
       "<ellipse fill=\"none\" stroke=\"black\" cx=\"169.7\" cy=\"-162\" rx=\"52.89\" ry=\"18\"/>\n",
       "<text text-anchor=\"middle\" x=\"169.7\" y=\"-156.95\" font-family=\"Times,serif\" font-size=\"14.00\">CompPrice</text>\n",
       "</g>\n",
       "<!-- CompPrice&#45;&gt;LogSales -->\n",
       "<g id=\"edge5\" class=\"edge\">\n",
       "<title>CompPrice&#45;&gt;LogSales</title>\n",
       "<path fill=\"none\" stroke=\"black\" d=\"M171.2,-143.6C172.05,-124.89 171.17,-94.77 159.7,-72 153.62,-59.93 143.59,-49.21 133.63,-40.61\"/>\n",
       "<polygon fill=\"black\" stroke=\"black\" points=\"136.33,-37.49 126.36,-33.92 131.93,-42.93 136.33,-37.49\"/>\n",
       "</g>\n",
       "<!-- CompPrice&#45;&gt;Price_diff -->\n",
       "<g id=\"edge4\" class=\"edge\">\n",
       "<title>CompPrice&#45;&gt;Price_diff</title>\n",
       "<path fill=\"none\" stroke=\"black\" d=\"M153.82,-144.41C145.48,-135.69 135.09,-124.85 125.87,-115.21\"/>\n",
       "<polygon fill=\"black\" stroke=\"black\" points=\"128.91,-113.27 119.46,-108.47 123.85,-118.11 128.91,-113.27\"/>\n",
       "</g>\n",
       "</g>\n",
       "</svg>\n"
      ],
      "text/plain": [
       "<graphviz.graphs.Digraph at 0x155ca8df0>"
      ]
     },
     "execution_count": 95,
     "metadata": {},
     "output_type": "execute_result"
    }
   ],
   "source": [
    "import graphviz as gr\n",
    "\n",
    "g = gr.Digraph('dag')\n",
    "g.edge('LogPrice', 'LogSales')\n",
    "g.edge('Price_diff', 'LogSales')\n",
    "g.edge('LogPrice', 'Price_diff')\n",
    "g.edge('CompPrice', 'Price_diff')\n",
    "g.edge('CompPrice', 'LogSales')\n",
    "g"
   ]
  },
  {
   "cell_type": "code",
   "execution_count": 96,
   "metadata": {},
   "outputs": [
    {
     "data": {
      "text/plain": [
       "<matplotlib.legend.Legend at 0x155ceff70>"
      ]
     },
     "execution_count": 96,
     "metadata": {},
     "output_type": "execute_result"
    },
    {
     "data": {
      "image/png": "[encoded data removed]",
      "text/plain": [
       "<Figure size 640x480 with 1 Axes>"
      ]
     },
     "metadata": {},
     "output_type": "display_data"
    }
   ],
   "source": [
    "def price_diff_revenue_fn(discount, baseline_price, elasticity, baseline_sales, diff_elasticity, comp_price):\n",
    "    \"\"\"Calculate revenues with different discount and elasticity scenarios\"\"\"\n",
    "    baseline_price_diff = baseline_price - comp_price\n",
    "    price_diff_after_discount = (baseline_price * (1+discount)) - comp_price\n",
    "    # Pct change in the price difference\n",
    "    diff_change_pct = (price_diff_after_discount/baseline_price_diff) - 1 \n",
    "\n",
    "    chg1 = (elasticity * np.log(1+discount)) \n",
    "    chg2 = (diff_elasticity * price_diff_after_discount) # Watch out here, we can't take a log of a negative number\n",
    "    demand = baseline_sales * np.exp(chg1 + chg2)\n",
    "    return -demand * ((1 + discount) * baseline_price - cost)\n",
    "\n",
    "diff_elasticity = -0.02\n",
    "scenario_2 = -0.03\n",
    "scenario_3 = 0.02\n",
    "\n",
    "comp_price = 8.5\n",
    "\n",
    "xrev = -price_diff_revenue_fn(discount, baseline_price, elasticity, baseline_sales, diff_elasticity, comp_price)\n",
    "xrev2 = -price_diff_revenue_fn(discount, baseline_price, elasticity, baseline_sales, scenario_2, comp_price)\n",
    "xrev3 = -price_diff_revenue_fn(discount, baseline_price, elasticity, baseline_sales, scenario_3, comp_price)\n",
    "\n",
    "plt.plot(prices, xrev, label='-0.02')\n",
    "plt.plot(prices, xrev2, label=f'{scenario_2}')\n",
    "plt.plot(prices, xrev3, label=f'{scenario_3}')\n",
    "plt.axvline(prices[np.argmax(xrev)], linestyle='dashed', color='blue', label='optimal at -0.02')\n",
    "plt.axvline(prices[np.argmax(xrev2)], linestyle='dashed', c='orange', label=f'optimal at {scenario_2}')\n",
    "plt.axvline(prices[np.argmax(xrev3)], linestyle='dashed', c='green', label=f'optimal at {scenario_3}')\n",
    "\n",
    "plt.legend()"
   ]
  },
  {
   "cell_type": "markdown",
   "metadata": {},
   "source": [
    "Under this model, we see that where the price diff elasticity is more negative, then decreasing the price becomes more optimal. But where the price diff elasticity is positive, then lowering the price no longer gets you as great of a benefit. \n",
    "\n",
    "If diff elasticity is very negative though, then this could lead us to a situation where we'd want to lower the price a lot."
   ]
  },
  {
   "cell_type": "code",
   "execution_count": 97,
   "metadata": {},
   "outputs": [
    {
     "data": {
      "text/plain": [
       "<matplotlib.legend.Legend at 0x15709ddb0>"
      ]
     },
     "execution_count": 97,
     "metadata": {},
     "output_type": "execute_result"
    },
    {
     "data": {
      "image/png": "[encoded data removed]",
      "text/plain": [
       "<Figure size 640x480 with 1 Axes>"
      ]
     },
     "metadata": {},
     "output_type": "display_data"
    }
   ],
   "source": [
    "low_elasticity_scenario = -1.055\n",
    "\n",
    "# price diff coefficients\n",
    "scenario_1 = -0.195\n",
    "scenario_2 = -1.5\n",
    "\n",
    "baseline_price = 11.46\n",
    "# Consider discounts between 10-50% off\n",
    "discount = np.linspace(-0.21, 0.21, 100)\n",
    "prices = (1 + discount) * baseline_price\n",
    "comp_price = 9.45\n",
    "baseline_sales = 150\n",
    "\n",
    "xrev = -price_diff_revenue_fn(discount, baseline_price, low_elasticity_scenario, baseline_sales, scenario_1, comp_price)\n",
    "xrev2 = -price_diff_revenue_fn(discount, baseline_price, low_elasticity_scenario, baseline_sales, scenario_2, comp_price)\n",
    "\n",
    "plt.plot(prices, xrev, label=f'{low_elasticity_scenario}, {scenario_1}')\n",
    "plt.plot(prices, xrev2, label=f'{low_elasticity_scenario}, {scenario_2}')\n",
    "plt.axvline(prices[np.argmax(xrev)], linestyle='dashed', color='blue', label=f'optimal at {scenario_1}')\n",
    "plt.axvline(prices[np.argmax(xrev2)], linestyle='dashed', c='orange', label=f'optimal at {scenario_2}')\n",
    "plt.legend()"
   ]
  },
  {
   "cell_type": "code",
   "execution_count": 98,
   "metadata": {},
   "outputs": [
    {
     "data": {
      "text/plain": [
       "8.070017232727206"
      ]
     },
     "execution_count": 98,
     "metadata": {},
     "output_type": "execute_result"
    }
   ],
   "source": [
    "res = minimize_scalar(price_diff_revenue_fn, args=(baseline_price, low_elasticity_scenario, baseline_sales, scenario_1, comp_price), bounds=[-0.3, 0.3], method='bounded')\n",
    "# Optimal Price?\n",
    "baseline_price * (1 + res.x)"
   ]
  },
  {
   "cell_type": "code",
   "execution_count": null,
   "metadata": {},
   "outputs": [],
   "source": []
  }
 ],
 "metadata": {
  "kernelspec": {
   "display_name": "pymc-statespace-FRV7Ufu--py3.10",
   "language": "python",
   "name": "python3"
  },
  "language_info": {
   "codemirror_mode": {
    "name": "ipython",
    "version": 3
   },
   "file_extension": ".py",
   "mimetype": "text/x-python",
   "name": "python",
   "nbconvert_exporter": "python",
   "pygments_lexer": "ipython3",
   "version": "3.10.6"
  }
 },
 "nbformat": 4,
 "nbformat_minor": 2
}
