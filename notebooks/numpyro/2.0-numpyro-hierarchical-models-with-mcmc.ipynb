{
 "cells": [
  {
   "cell_type": "markdown",
   "metadata": {},
   "source": [
    "# Example of Hierarchical Models with MCMC\n",
    "\n",
    "Converted the `pyro` example on '[analyzing baseball stats with MCMC](https://pyro.ai/examples/baseball.html)' in `numpyro`."
   ]
  },
  {
   "cell_type": "markdown",
   "metadata": {},
   "source": [
    "> Example has been adapted from [1]. It demonstrates how to do Bayesian inference using NUTS (or, HMC) in Pyro, and use of some common inference utilities.\n",
    ">\n",
    "> As in the Stan tutorial, this uses the small baseball dataset of Efron and Morris [2] to estimate players' batting average which is the fraction of times a player got a base hit out of the number of times they went up at bat.\n",
    ">\n",
    "> The dataset separates the initial 45 at-bats statistics from the remaining season. We use the hits data from the initial 45 at-bats to estimate the batting average for each player. We then use the remaining season's data to validate the predictions from our models.\n",
    ">\n",
    "> Three models are evaluated:\n",
    "> - Complete pooling model: The success probability of scoring a hit is shared amongst all players.\n",
    "> - No pooling model: Each individual player's success probability is distinct and there is no data sharing amongst players.\n",
    "> - Partial pooling model: A hierarchical model with partial data sharing.\n",
    ">\n",
    ">\n",
    "> We recommend Radford Neal's tutorial on HMC ([3]) to users who would like to get a more comprehensive understanding of HMC and its variants, and to [4] for details on the No U-Turn Sampler, which provides an efficient and automated way (i.e. limited hyper-parameters) of running HMC on different problems.\n",
    ">\n",
    "> * [1] Carpenter B. (2016), [\"Hierarchical Partial Pooling for Repeated Binary Trials\"](http://mc-stan.org/users/documentation/case-studies/pool-binary-trials.html).\n",
    "> * [2] Efron B., Morris C. (1975), \"Data analysis using Stein's estimator and its generalizations\", J. Amer. Statist. Assoc., 70, 311-319.\n",
    "> * [3] Neal, R. (2012), \"MCMC using Hamiltonian Dynamics\", ([https://arxiv.org/pdf/1206.1901.pdf])\n",
    "> * [4] Hoffman, M. D. and Gelman, A. (2014), \"The No-U-turn sampler: Adaptively setting path lengths in Hamiltonian Monte Carlo\", ([https://arxiv.org/abs/1111.4246])"
   ]
  },
  {
   "cell_type": "code",
   "execution_count": 1,
   "metadata": {},
   "outputs": [],
   "source": [
    "# Modeling\n",
    "import numpyro\n",
    "import numpyro.distributions as dist\n",
    "from jax import random\n",
    "import jax.numpy as jnp\n",
    "from numpyro.infer import MCMC, NUTS, Predictive\n",
    "\n",
    "# Diagnostics and Viz\n",
    "import arviz as az\n",
    "from numpyro.diagnostics import hpdi\n",
    "\n",
    "numpyro.set_host_device_count(4)\n",
    "\n",
    "import pandas as pd"
   ]
  },
  {
   "cell_type": "code",
   "execution_count": 2,
   "metadata": {},
   "outputs": [],
   "source": [
    "DATA_URL = \"https://d2hg8soec8ck9v.cloudfront.net/datasets/EfronMorrisBB.txt\""
   ]
  },
  {
   "cell_type": "code",
   "execution_count": 3,
   "metadata": {},
   "outputs": [],
   "source": [
    "def train_test_split(pd_dataframe):\n",
    "    \"\"\"\n",
    "    Training data - 45 initial at-bats and hits for each player.\n",
    "    Validation data - Full season at-bats and hits for each player.\n",
    "    \"\"\"\n",
    "    train_data = pd_dataframe[[\"At-Bats\", \"Hits\"]].values\n",
    "    test_data = pd_dataframe[[\"SeasonAt-Bats\", \"SeasonHits\"]].values\n",
    "    first_name = pd_dataframe[\"FirstName\"].values\n",
    "    last_name = pd_dataframe[\"LastName\"].values\n",
    "    player_names = [\n",
    "        \" \".join([first, last]) for first, last in zip(first_name, last_name)\n",
    "    ]\n",
    "    return train_data, test_data, player_names\n",
    "\n",
    "def run_inference(model, at_bats, hits):\n",
    "    # Run the inference\n",
    "    kernel = NUTS(model)\n",
    "    mcmc = MCMC(kernel, num_warmup=100, num_samples=200, num_chains=4)\n",
    "    mcmc.run(random.PRNGKey(1), at_bats, hits)\n",
    "    return mcmc"
   ]
  },
  {
   "cell_type": "code",
   "execution_count": 10,
   "metadata": {},
   "outputs": [
    {
     "data": {
      "text/html": [
       "<div>\n",
       "<style scoped>\n",
       "    .dataframe tbody tr th:only-of-type {\n",
       "        vertical-align: middle;\n",
       "    }\n",
       "\n",
       "    .dataframe tbody tr th {\n",
       "        vertical-align: top;\n",
       "    }\n",
       "\n",
       "    .dataframe thead th {\n",
       "        text-align: right;\n",
       "    }\n",
       "</style>\n",
       "<table border=\"1\" class=\"dataframe\">\n",
       "  <thead>\n",
       "    <tr style=\"text-align: right;\">\n",
       "      <th></th>\n",
       "      <th>FirstName</th>\n",
       "      <th>LastName</th>\n",
       "      <th>At-Bats</th>\n",
       "      <th>Hits</th>\n",
       "      <th>BattingAverage</th>\n",
       "      <th>RemainingAt-Bats</th>\n",
       "      <th>RemainingAverage</th>\n",
       "      <th>SeasonAt-Bats</th>\n",
       "      <th>SeasonHits</th>\n",
       "      <th>SeasonAverage</th>\n",
       "    </tr>\n",
       "  </thead>\n",
       "  <tbody>\n",
       "    <tr>\n",
       "      <th>0</th>\n",
       "      <td>Roberto</td>\n",
       "      <td>Clemente</td>\n",
       "      <td>45</td>\n",
       "      <td>18</td>\n",
       "      <td>0.400</td>\n",
       "      <td>367</td>\n",
       "      <td>0.3460</td>\n",
       "      <td>412</td>\n",
       "      <td>145</td>\n",
       "      <td>0.352</td>\n",
       "    </tr>\n",
       "    <tr>\n",
       "      <th>1</th>\n",
       "      <td>Frank</td>\n",
       "      <td>Robinson</td>\n",
       "      <td>45</td>\n",
       "      <td>17</td>\n",
       "      <td>0.378</td>\n",
       "      <td>426</td>\n",
       "      <td>0.2981</td>\n",
       "      <td>471</td>\n",
       "      <td>144</td>\n",
       "      <td>0.306</td>\n",
       "    </tr>\n",
       "    <tr>\n",
       "      <th>2</th>\n",
       "      <td>Frank</td>\n",
       "      <td>Howard</td>\n",
       "      <td>45</td>\n",
       "      <td>16</td>\n",
       "      <td>0.356</td>\n",
       "      <td>521</td>\n",
       "      <td>0.2764</td>\n",
       "      <td>566</td>\n",
       "      <td>160</td>\n",
       "      <td>0.283</td>\n",
       "    </tr>\n",
       "    <tr>\n",
       "      <th>3</th>\n",
       "      <td>Jay</td>\n",
       "      <td>Johnstone</td>\n",
       "      <td>45</td>\n",
       "      <td>15</td>\n",
       "      <td>0.333</td>\n",
       "      <td>275</td>\n",
       "      <td>0.2218</td>\n",
       "      <td>320</td>\n",
       "      <td>76</td>\n",
       "      <td>0.238</td>\n",
       "    </tr>\n",
       "    <tr>\n",
       "      <th>4</th>\n",
       "      <td>Ken</td>\n",
       "      <td>Berry</td>\n",
       "      <td>45</td>\n",
       "      <td>14</td>\n",
       "      <td>0.311</td>\n",
       "      <td>418</td>\n",
       "      <td>0.2727</td>\n",
       "      <td>463</td>\n",
       "      <td>128</td>\n",
       "      <td>0.276</td>\n",
       "    </tr>\n",
       "  </tbody>\n",
       "</table>\n",
       "</div>"
      ],
      "text/plain": [
       "  FirstName   LastName  At-Bats  Hits  BattingAverage  RemainingAt-Bats  \\\n",
       "0   Roberto   Clemente       45    18           0.400               367   \n",
       "1     Frank   Robinson       45    17           0.378               426   \n",
       "2     Frank     Howard       45    16           0.356               521   \n",
       "3       Jay  Johnstone       45    15           0.333               275   \n",
       "4       Ken      Berry       45    14           0.311               418   \n",
       "\n",
       "   RemainingAverage  SeasonAt-Bats  SeasonHits  SeasonAverage  \n",
       "0            0.3460            412         145          0.352  \n",
       "1            0.2981            471         144          0.306  \n",
       "2            0.2764            566         160          0.283  \n",
       "3            0.2218            320          76          0.238  \n",
       "4            0.2727            463         128          0.276  "
      ]
     },
     "metadata": {},
     "output_type": "display_data"
    },
    {
     "name": "stdout",
     "output_type": "stream",
     "text": [
      "(18, 10)\n"
     ]
    }
   ],
   "source": [
    "baseball_dataset = pd.read_csv(DATA_URL, sep=\"\\t\")\n",
    "train, _, player_names = train_test_split(baseball_dataset)\n",
    "at_bats, hits = train[:, 0], train[:, 1]\n",
    "at_bats = jnp.array(at_bats, dtype=jnp.float32)\n",
    "hits = jnp.array(hits, jnp.float32)\n",
    "display(baseball_dataset.head())\n",
    "print(baseball_dataset.shape)"
   ]
  },
  {
   "cell_type": "markdown",
   "metadata": {},
   "source": [
    "## Modeling\n",
    "\n",
    "### Fully Pooled Model\n",
    "\n",
    "$$\n",
    "K_i \\sim \\operatorname{Binomial}(\\phi)\n",
    "$$\n",
    "\n",
    "Number of hits in $K$ at bats for each player has a Binomial distribution with a common probability of success, $\\phi$.\n"
   ]
  },
  {
   "cell_type": "code",
   "execution_count": 11,
   "metadata": {},
   "outputs": [
    {
     "data": {
      "image/svg+xml": [
       "<?xml version=\"1.0\" encoding=\"UTF-8\" standalone=\"no\"?>\n",
       "<!DOCTYPE svg PUBLIC \"-//W3C//DTD SVG 1.1//EN\"\n",
       " \"http://www.w3.org/Graphics/SVG/1.1/DTD/svg11.dtd\">\n",
       "<!-- Generated by graphviz version 2.43.0 (0)\n",
       " -->\n",
       "<!-- Title: %3 Pages: 1 -->\n",
       "<svg width=\"282pt\" height=\"157pt\"\n",
       " viewBox=\"0.00 0.00 281.50 157.00\" xmlns=\"http://www.w3.org/2000/svg\" xmlns:xlink=\"http://www.w3.org/1999/xlink\">\n",
       "<g id=\"graph0\" class=\"graph\" transform=\"scale(1 1) rotate(0) translate(4 153)\">\n",
       "<title>%3</title>\n",
       "<polygon fill=\"white\" stroke=\"transparent\" points=\"-4,4 -4,-153 277.5,-153 277.5,4 -4,4\"/>\n",
       "<g id=\"clust1\" class=\"cluster\">\n",
       "<title>cluster_num_players</title>\n",
       "<polygon fill=\"none\" stroke=\"black\" points=\"8,-8 8,-83 115,-83 115,-8 8,-8\"/>\n",
       "<text text-anchor=\"middle\" x=\"61.5\" y=\"-15.8\" font-family=\"Times,serif\" font-size=\"14.00\">num_players</text>\n",
       "</g>\n",
       "<!-- phi -->\n",
       "<g id=\"node1\" class=\"node\">\n",
       "<title>phi</title>\n",
       "<ellipse fill=\"white\" stroke=\"black\" cx=\"61\" cy=\"-130\" rx=\"27\" ry=\"18\"/>\n",
       "<text text-anchor=\"middle\" x=\"61\" y=\"-126.3\" font-family=\"Times,serif\" font-size=\"14.00\">phi</text>\n",
       "</g>\n",
       "<!-- obs -->\n",
       "<g id=\"node2\" class=\"node\">\n",
       "<title>obs</title>\n",
       "<ellipse fill=\"grey\" stroke=\"black\" cx=\"61\" cy=\"-57\" rx=\"27\" ry=\"18\"/>\n",
       "<text text-anchor=\"middle\" x=\"61\" y=\"-53.3\" font-family=\"Times,serif\" font-size=\"14.00\">obs</text>\n",
       "</g>\n",
       "<!-- phi&#45;&gt;obs -->\n",
       "<g id=\"edge1\" class=\"edge\">\n",
       "<title>phi&#45;&gt;obs</title>\n",
       "<path fill=\"none\" stroke=\"black\" d=\"M61,-111.81C61,-103.79 61,-94.05 61,-85.07\"/>\n",
       "<polygon fill=\"black\" stroke=\"black\" points=\"64.5,-85.03 61,-75.03 57.5,-85.03 64.5,-85.03\"/>\n",
       "</g>\n",
       "<!-- distribution_description_node -->\n",
       "<g id=\"node3\" class=\"node\">\n",
       "<title>distribution_description_node</title>\n",
       "<text text-anchor=\"start\" x=\"114.5\" y=\"-133.8\" font-family=\"Times,serif\" font-size=\"14.00\">phi ~ Uniform</text>\n",
       "<text text-anchor=\"start\" x=\"114.5\" y=\"-118.8\" font-family=\"Times,serif\" font-size=\"14.00\">obs ~ BinomialProbs</text>\n",
       "</g>\n",
       "</g>\n",
       "</svg>\n"
      ],
      "text/plain": [
       "<graphviz.graphs.Digraph at 0x7f1f24480130>"
      ]
     },
     "execution_count": 11,
     "metadata": {},
     "output_type": "execute_result"
    }
   ],
   "source": [
    "def fully_pooled(at_bats, hits):\n",
    "    r\"\"\"\n",
    "    Number of hits in $K$ at bats for each player has a Binomial\n",
    "    distribution with a common probability of success, $\\phi$.\n",
    "\n",
    "    Parameters\n",
    "    ----------\n",
    "    at_bats: Number of at bats for each player.\n",
    "    hits: Number of hits for the given at bats.\n",
    "    \n",
    "    Returns\n",
    "    -------\n",
    "    Number of hits predicted by the model.\n",
    "    \"\"\"\n",
    "    phi_prior = dist.Uniform(0, 1)\n",
    "    phi = numpyro.sample(\"phi\", phi_prior)\n",
    "    num_players = at_bats.shape[0]\n",
    "    with numpyro.plate(\"num_players\", num_players):\n",
    "        return numpyro.sample(\"obs\", dist.Binomial(at_bats, phi), obs=hits)\n",
    "    \n",
    "numpyro.render_model(fully_pooled, (at_bats, hits), render_distributions=True)"
   ]
  },
  {
   "cell_type": "code",
   "execution_count": 12,
   "metadata": {},
   "outputs": [
    {
     "data": {
      "application/vnd.jupyter.widget-view+json": {
       "model_id": "33ab26d0e2ca48ed898b7bbe6e415a0c",
       "version_major": 2,
       "version_minor": 0
      },
      "text/plain": [
       "  0%|          | 0/300 [00:00<?, ?it/s]"
      ]
     },
     "metadata": {},
     "output_type": "display_data"
    },
    {
     "data": {
      "application/vnd.jupyter.widget-view+json": {
       "model_id": "5f431f2fe8144871b546db5f68f9dee1",
       "version_major": 2,
       "version_minor": 0
      },
      "text/plain": [
       "  0%|          | 0/300 [00:00<?, ?it/s]"
      ]
     },
     "metadata": {},
     "output_type": "display_data"
    },
    {
     "data": {
      "application/vnd.jupyter.widget-view+json": {
       "model_id": "709116a0f3bb49348eb23db5d2518405",
       "version_major": 2,
       "version_minor": 0
      },
      "text/plain": [
       "  0%|          | 0/300 [00:00<?, ?it/s]"
      ]
     },
     "metadata": {},
     "output_type": "display_data"
    },
    {
     "data": {
      "application/vnd.jupyter.widget-view+json": {
       "model_id": "fa2fa7ef88bb42249c4b4a0e0f7a9116",
       "version_major": 2,
       "version_minor": 0
      },
      "text/plain": [
       "  0%|          | 0/300 [00:00<?, ?it/s]"
      ]
     },
     "metadata": {},
     "output_type": "display_data"
    },
    {
     "name": "stdout",
     "output_type": "stream",
     "text": [
      "\n",
      "                mean       std    median      5.0%     95.0%     n_eff     r_hat\n",
      "       phi      0.27      0.02      0.27      0.24      0.29    324.73      1.01\n",
      "\n",
      "Number of divergences: 0\n"
     ]
    }
   ],
   "source": [
    "model = fully_pooled\n",
    "\n",
    "# Run the inference\n",
    "mcmc = run_inference(model, at_bats, hits)\n",
    "mcmc.print_summary()"
   ]
  },
  {
   "cell_type": "markdown",
   "metadata": {},
   "source": [
    "### Unpooled Model\n",
    "\n",
    "$$\n",
    "K_i \\sim \\operatorname{Binomial}(\\phi_i)\n",
    "$$\n",
    "\n",
    "Number of hits in $K$ at bats for each player has a Binomial distribution with independent probability of success, $\\phi_i$."
   ]
  },
  {
   "cell_type": "code",
   "execution_count": 13,
   "metadata": {},
   "outputs": [
    {
     "data": {
      "image/svg+xml": [
       "<?xml version=\"1.0\" encoding=\"UTF-8\" standalone=\"no\"?>\n",
       "<!DOCTYPE svg PUBLIC \"-//W3C//DTD SVG 1.1//EN\"\n",
       " \"http://www.w3.org/Graphics/SVG/1.1/DTD/svg11.dtd\">\n",
       "<!-- Generated by graphviz version 2.43.0 (0)\n",
       " -->\n",
       "<!-- Title: %3 Pages: 1 -->\n",
       "<svg width=\"298pt\" height=\"172pt\"\n",
       " viewBox=\"0.00 0.00 297.50 172.00\" xmlns=\"http://www.w3.org/2000/svg\" xmlns:xlink=\"http://www.w3.org/1999/xlink\">\n",
       "<g id=\"graph0\" class=\"graph\" transform=\"scale(1 1) rotate(0) translate(4 168)\">\n",
       "<title>%3</title>\n",
       "<polygon fill=\"white\" stroke=\"transparent\" points=\"-4,4 -4,-168 293.5,-168 293.5,4 -4,4\"/>\n",
       "<g id=\"clust1\" class=\"cluster\">\n",
       "<title>cluster_num_players</title>\n",
       "<polygon fill=\"none\" stroke=\"black\" points=\"8,-8 8,-156 115,-156 115,-8 8,-8\"/>\n",
       "<text text-anchor=\"middle\" x=\"61.5\" y=\"-15.8\" font-family=\"Times,serif\" font-size=\"14.00\">num_players</text>\n",
       "</g>\n",
       "<!-- phi -->\n",
       "<g id=\"node1\" class=\"node\">\n",
       "<title>phi</title>\n",
       "<ellipse fill=\"white\" stroke=\"black\" cx=\"60\" cy=\"-130\" rx=\"27\" ry=\"18\"/>\n",
       "<text text-anchor=\"middle\" x=\"60\" y=\"-126.3\" font-family=\"Times,serif\" font-size=\"14.00\">phi</text>\n",
       "</g>\n",
       "<!-- obs -->\n",
       "<g id=\"node2\" class=\"node\">\n",
       "<title>obs</title>\n",
       "<ellipse fill=\"grey\" stroke=\"black\" cx=\"60\" cy=\"-57\" rx=\"27\" ry=\"18\"/>\n",
       "<text text-anchor=\"middle\" x=\"60\" y=\"-53.3\" font-family=\"Times,serif\" font-size=\"14.00\">obs</text>\n",
       "</g>\n",
       "<!-- phi&#45;&gt;obs -->\n",
       "<g id=\"edge1\" class=\"edge\">\n",
       "<title>phi&#45;&gt;obs</title>\n",
       "<path fill=\"none\" stroke=\"black\" d=\"M60,-111.81C60,-103.79 60,-94.05 60,-85.07\"/>\n",
       "<polygon fill=\"black\" stroke=\"black\" points=\"63.5,-85.03 60,-75.03 56.5,-85.03 63.5,-85.03\"/>\n",
       "</g>\n",
       "<!-- distribution_description_node -->\n",
       "<g id=\"node3\" class=\"node\">\n",
       "<title>distribution_description_node</title>\n",
       "<text text-anchor=\"start\" x=\"130.5\" y=\"-133.8\" font-family=\"Times,serif\" font-size=\"14.00\">phi ~ Uniform</text>\n",
       "<text text-anchor=\"start\" x=\"130.5\" y=\"-118.8\" font-family=\"Times,serif\" font-size=\"14.00\">obs ~ BinomialProbs</text>\n",
       "</g>\n",
       "</g>\n",
       "</svg>\n"
      ],
      "text/plain": [
       "<graphviz.graphs.Digraph at 0x7f1e406ab640>"
      ]
     },
     "execution_count": 13,
     "metadata": {},
     "output_type": "execute_result"
    }
   ],
   "source": [
    "def not_pooled(at_bats, hits):\n",
    "    r\"\"\"\n",
    "    Number of hits in $K$ at bats for each player has a Binomial\n",
    "    distribution with independent probability of success, $\\phi_i$.\n",
    "\n",
    "    Parameters\n",
    "    ----------\n",
    "    at_bats: Number of at bats for each player.\n",
    "    hits: Number of hits for the given at bats.\n",
    "    \n",
    "    Returns\n",
    "    -------\n",
    "    Number of hits predicted by the model.\n",
    "    \"\"\"\n",
    "    num_players = at_bats.shape[0]\n",
    "    with numpyro.plate(\"num_players\", num_players):\n",
    "        phi_prior = dist.Uniform(jnp.zeros(num_players), jnp.ones(num_players))\n",
    "        phi = numpyro.sample(\"phi\", phi_prior)\n",
    "        return numpyro.sample(\"obs\", dist.Binomial(at_bats, phi), obs=hits)\n",
    "\n",
    "numpyro.render_model(not_pooled, (at_bats, hits), render_distributions=True)"
   ]
  },
  {
   "cell_type": "code",
   "execution_count": 14,
   "metadata": {},
   "outputs": [
    {
     "data": {
      "application/vnd.jupyter.widget-view+json": {
       "model_id": "abecc4eeb30a4f8e9fb64f2b3cdaf54e",
       "version_major": 2,
       "version_minor": 0
      },
      "text/plain": [
       "  0%|          | 0/300 [00:00<?, ?it/s]"
      ]
     },
     "metadata": {},
     "output_type": "display_data"
    },
    {
     "data": {
      "application/vnd.jupyter.widget-view+json": {
       "model_id": "d8388258763e4c94867f30f5cb609f2f",
       "version_major": 2,
       "version_minor": 0
      },
      "text/plain": [
       "  0%|          | 0/300 [00:00<?, ?it/s]"
      ]
     },
     "metadata": {},
     "output_type": "display_data"
    },
    {
     "data": {
      "application/vnd.jupyter.widget-view+json": {
       "model_id": "446bf3ab3e204a8ba9a3ef1acc1e51ad",
       "version_major": 2,
       "version_minor": 0
      },
      "text/plain": [
       "  0%|          | 0/300 [00:00<?, ?it/s]"
      ]
     },
     "metadata": {},
     "output_type": "display_data"
    },
    {
     "data": {
      "application/vnd.jupyter.widget-view+json": {
       "model_id": "f47069a33ae642b6847bc7b948ae319a",
       "version_major": 2,
       "version_minor": 0
      },
      "text/plain": [
       "  0%|          | 0/300 [00:00<?, ?it/s]"
      ]
     },
     "metadata": {},
     "output_type": "display_data"
    },
    {
     "name": "stdout",
     "output_type": "stream",
     "text": [
      "\n",
      "                mean       std    median      5.0%     95.0%     n_eff     r_hat\n",
      "    phi[0]      0.40      0.07      0.41      0.28      0.52   1462.26      1.00\n",
      "    phi[1]      0.38      0.07      0.38      0.27      0.50   1326.53      1.00\n",
      "    phi[2]      0.36      0.07      0.36      0.24      0.47   1533.23      1.00\n",
      "    phi[3]      0.34      0.07      0.34      0.23      0.45   1251.89      1.00\n",
      "    phi[4]      0.32      0.06      0.31      0.22      0.43   1867.68      1.00\n",
      "    phi[5]      0.32      0.07      0.31      0.21      0.43   1521.81      1.00\n",
      "    phi[6]      0.29      0.07      0.29      0.18      0.40   1681.39      1.00\n",
      "    phi[7]      0.27      0.06      0.27      0.18      0.38   1477.67      1.00\n",
      "    phi[8]      0.25      0.07      0.24      0.15      0.36   1888.54      1.00\n",
      "    phi[9]      0.25      0.06      0.25      0.15      0.35   2202.09      1.00\n",
      "   phi[10]      0.24      0.06      0.23      0.13      0.34   1860.66      1.00\n",
      "   phi[11]      0.23      0.06      0.23      0.14      0.33   1945.60      1.00\n",
      "   phi[12]      0.23      0.06      0.23      0.13      0.33   1765.83      1.00\n",
      "   phi[13]      0.23      0.06      0.23      0.13      0.32   1789.24      1.00\n",
      "   phi[14]      0.23      0.06      0.23      0.14      0.33    968.58      1.00\n",
      "   phi[15]      0.21      0.06      0.21      0.13      0.30   2155.74      1.00\n",
      "   phi[16]      0.19      0.06      0.19      0.09      0.28   1901.24      1.00\n",
      "   phi[17]      0.17      0.05      0.17      0.08      0.25   1909.27      1.00\n",
      "\n",
      "Number of divergences: 0\n"
     ]
    }
   ],
   "source": [
    "model = not_pooled\n",
    "\n",
    "# Run the inference\n",
    "mcmc = run_inference(model, at_bats, hits)\n",
    "mcmc.print_summary()"
   ]
  },
  {
   "cell_type": "markdown",
   "metadata": {},
   "source": [
    "### Partial Pooling\n",
    "\n",
    "$$\n",
    "\\begin{aligned}\n",
    "K_i &\\sim \\operatorname{Binomial}(\\phi_i) \\\\\n",
    "\\phi_i &\\sim \\operatorname{Uniform}(c_1, c_2) \\\\\n",
    "c_1 &= m * \\kappa\\\\\n",
    "c_2 &= (1-m) * \\kappa\\\\\n",
    "\\kappa &\\sim \\operatorname{Pareto}(1, 1.5)\n",
    "\\end{aligned}\n",
    "$$\n",
    "\n",
    "Number of hits has a Binomial distribution with independent probability of success, $\\phi_i$. \n",
    "\n",
    "Each $\\phi_i$ follows a Beta distribution with concentration parameters $c_1$ and $c_2$, where:\n",
    "* $c_1 = m * \\kappa$\n",
    "* $c_2 = (1 - m) * \\kappa$\n",
    "* $m \\sim \\text{Uniform}(0, 1)$\n",
    "* and $\\kappa \\sim \\text{Pareto}(1, 1.5)$."
   ]
  },
  {
   "cell_type": "code",
   "execution_count": 15,
   "metadata": {},
   "outputs": [
    {
     "data": {
      "image/svg+xml": [
       "<?xml version=\"1.0\" encoding=\"UTF-8\" standalone=\"no\"?>\n",
       "<!DOCTYPE svg PUBLIC \"-//W3C//DTD SVG 1.1//EN\"\n",
       " \"http://www.w3.org/Graphics/SVG/1.1/DTD/svg11.dtd\">\n",
       "<!-- Generated by graphviz version 2.43.0 (0)\n",
       " -->\n",
       "<!-- Title: %3 Pages: 1 -->\n",
       "<svg width=\"342pt\" height=\"259pt\"\n",
       " viewBox=\"0.00 0.00 341.50 259.00\" xmlns=\"http://www.w3.org/2000/svg\" xmlns:xlink=\"http://www.w3.org/1999/xlink\">\n",
       "<g id=\"graph0\" class=\"graph\" transform=\"scale(1 1) rotate(0) translate(4 255)\">\n",
       "<title>%3</title>\n",
       "<polygon fill=\"white\" stroke=\"transparent\" points=\"-4,4 -4,-255 337.5,-255 337.5,4 -4,4\"/>\n",
       "<g id=\"clust1\" class=\"cluster\">\n",
       "<title>cluster_num_players</title>\n",
       "<polygon fill=\"none\" stroke=\"black\" points=\"15,-8 15,-155 122,-155 122,-8 15,-8\"/>\n",
       "<text text-anchor=\"middle\" x=\"68.5\" y=\"-15.8\" font-family=\"Times,serif\" font-size=\"14.00\">num_players</text>\n",
       "</g>\n",
       "<!-- m -->\n",
       "<g id=\"node1\" class=\"node\">\n",
       "<title>m</title>\n",
       "<ellipse fill=\"white\" stroke=\"black\" cx=\"27\" cy=\"-217\" rx=\"27\" ry=\"18\"/>\n",
       "<text text-anchor=\"middle\" x=\"27\" y=\"-213.3\" font-family=\"Times,serif\" font-size=\"14.00\">m</text>\n",
       "</g>\n",
       "<!-- phi -->\n",
       "<g id=\"node3\" class=\"node\">\n",
       "<title>phi</title>\n",
       "<ellipse fill=\"white\" stroke=\"black\" cx=\"68\" cy=\"-129\" rx=\"27\" ry=\"18\"/>\n",
       "<text text-anchor=\"middle\" x=\"68\" y=\"-125.3\" font-family=\"Times,serif\" font-size=\"14.00\">phi</text>\n",
       "</g>\n",
       "<!-- m&#45;&gt;phi -->\n",
       "<g id=\"edge1\" class=\"edge\">\n",
       "<title>m&#45;&gt;phi</title>\n",
       "<path fill=\"none\" stroke=\"black\" d=\"M34.91,-199.42C40.8,-187.05 48.97,-169.91 55.72,-155.76\"/>\n",
       "<polygon fill=\"black\" stroke=\"black\" points=\"58.97,-157.06 60.12,-146.53 52.66,-154.05 58.97,-157.06\"/>\n",
       "</g>\n",
       "<!-- kappa -->\n",
       "<g id=\"node2\" class=\"node\">\n",
       "<title>kappa</title>\n",
       "<ellipse fill=\"white\" stroke=\"black\" cx=\"110\" cy=\"-217\" rx=\"38.19\" ry=\"18\"/>\n",
       "<text text-anchor=\"middle\" x=\"110\" y=\"-213.3\" font-family=\"Times,serif\" font-size=\"14.00\">kappa</text>\n",
       "</g>\n",
       "<!-- kappa&#45;&gt;phi -->\n",
       "<g id=\"edge2\" class=\"edge\">\n",
       "<title>kappa&#45;&gt;phi</title>\n",
       "<path fill=\"none\" stroke=\"black\" d=\"M101.7,-199.01C95.64,-186.6 87.32,-169.56 80.46,-155.52\"/>\n",
       "<polygon fill=\"black\" stroke=\"black\" points=\"83.53,-153.82 76,-146.37 77.24,-156.89 83.53,-153.82\"/>\n",
       "</g>\n",
       "<!-- obs -->\n",
       "<g id=\"node4\" class=\"node\">\n",
       "<title>obs</title>\n",
       "<ellipse fill=\"grey\" stroke=\"black\" cx=\"68\" cy=\"-57\" rx=\"27\" ry=\"18\"/>\n",
       "<text text-anchor=\"middle\" x=\"68\" y=\"-53.3\" font-family=\"Times,serif\" font-size=\"14.00\">obs</text>\n",
       "</g>\n",
       "<!-- phi&#45;&gt;obs -->\n",
       "<g id=\"edge3\" class=\"edge\">\n",
       "<title>phi&#45;&gt;obs</title>\n",
       "<path fill=\"none\" stroke=\"black\" d=\"M68,-110.7C68,-102.98 68,-93.71 68,-85.11\"/>\n",
       "<polygon fill=\"black\" stroke=\"black\" points=\"71.5,-85.1 68,-75.1 64.5,-85.1 71.5,-85.1\"/>\n",
       "</g>\n",
       "<!-- distribution_description_node -->\n",
       "<g id=\"node5\" class=\"node\">\n",
       "<title>distribution_description_node</title>\n",
       "<text text-anchor=\"start\" x=\"174.5\" y=\"-235.8\" font-family=\"Times,serif\" font-size=\"14.00\">m ~ Uniform</text>\n",
       "<text text-anchor=\"start\" x=\"174.5\" y=\"-220.8\" font-family=\"Times,serif\" font-size=\"14.00\">kappa ~ Pareto</text>\n",
       "<text text-anchor=\"start\" x=\"174.5\" y=\"-205.8\" font-family=\"Times,serif\" font-size=\"14.00\">phi ~ Beta</text>\n",
       "<text text-anchor=\"start\" x=\"174.5\" y=\"-190.8\" font-family=\"Times,serif\" font-size=\"14.00\">obs ~ BinomialProbs</text>\n",
       "</g>\n",
       "</g>\n",
       "</svg>\n"
      ],
      "text/plain": [
       "<graphviz.graphs.Digraph at 0x7f1e414c0640>"
      ]
     },
     "execution_count": 15,
     "metadata": {},
     "output_type": "execute_result"
    }
   ],
   "source": [
    "def partially_pooled(at_bats, hits):\n",
    "    r\"\"\"\n",
    "    Number of hits has a Binomial distribution with independent\n",
    "    probability of success, $\\phi_i$. Each $\\phi_i$ follows a Beta\n",
    "    distribution with concentration parameters $c_1$ and $c_2$, where\n",
    "    $c_1 = m * kappa$, $c_2 = (1 - m) * kappa$, $m ~ Uniform(0, 1)$,\n",
    "    and $kappa ~ Pareto(1, 1.5)$.\n",
    "\n",
    "    Parameters\n",
    "    ----------\n",
    "    at_bats: Number of at bats for each player.\n",
    "    hits: Number of hits for the given at bats.\n",
    "    \n",
    "    Returns\n",
    "    -------\n",
    "    Number of hits predicted by the model.\n",
    "    \"\"\"\n",
    "    num_players = at_bats.shape[0]\n",
    "    m = numpyro.sample(\"m\", dist.Uniform(0, 1))\n",
    "    kappa = numpyro.sample(\n",
    "        \"kappa\", dist.Pareto(1, 1.5)\n",
    "    )\n",
    "    with numpyro.plate(\"num_players\", num_players):\n",
    "        phi_prior = dist.Beta(m * kappa, (1 - m) * kappa)\n",
    "        phi = numpyro.sample(\"phi\", phi_prior)\n",
    "        return numpyro.sample(\"obs\", dist.Binomial(at_bats, phi), obs=hits)\n",
    "\n",
    "numpyro.render_model(partially_pooled, (at_bats, hits), render_distributions=True)"
   ]
  },
  {
   "cell_type": "code",
   "execution_count": 16,
   "metadata": {},
   "outputs": [
    {
     "data": {
      "application/vnd.jupyter.widget-view+json": {
       "model_id": "4c2c384d17174732b29ff95a68f72219",
       "version_major": 2,
       "version_minor": 0
      },
      "text/plain": [
       "  0%|          | 0/300 [00:00<?, ?it/s]"
      ]
     },
     "metadata": {},
     "output_type": "display_data"
    },
    {
     "data": {
      "application/vnd.jupyter.widget-view+json": {
       "model_id": "ce69c0969c65497ca55a0d13d5bd9359",
       "version_major": 2,
       "version_minor": 0
      },
      "text/plain": [
       "  0%|          | 0/300 [00:00<?, ?it/s]"
      ]
     },
     "metadata": {},
     "output_type": "display_data"
    },
    {
     "data": {
      "application/vnd.jupyter.widget-view+json": {
       "model_id": "d4a42b43ec3040559737edb14984d731",
       "version_major": 2,
       "version_minor": 0
      },
      "text/plain": [
       "  0%|          | 0/300 [00:00<?, ?it/s]"
      ]
     },
     "metadata": {},
     "output_type": "display_data"
    },
    {
     "data": {
      "application/vnd.jupyter.widget-view+json": {
       "model_id": "cad9aade33aa48198eae88f96fc8b2f0",
       "version_major": 2,
       "version_minor": 0
      },
      "text/plain": [
       "  0%|          | 0/300 [00:00<?, ?it/s]"
      ]
     },
     "metadata": {},
     "output_type": "display_data"
    },
    {
     "name": "stdout",
     "output_type": "stream",
     "text": [
      "\n",
      "                mean       std    median      5.0%     95.0%     n_eff     r_hat\n",
      "     kappa     83.95     63.55     63.42      8.48    162.44    173.95      1.00\n",
      "         m      0.27      0.02      0.27      0.23      0.30    611.80      1.00\n",
      "    phi[0]      0.32      0.05      0.32      0.23      0.39    597.49      1.00\n",
      "    phi[1]      0.31      0.05      0.31      0.22      0.38    679.07      1.00\n",
      "    phi[2]      0.30      0.05      0.30      0.21      0.38    700.12      1.00\n",
      "    phi[3]      0.29      0.05      0.29      0.21      0.37    850.21      1.00\n",
      "    phi[4]      0.28      0.05      0.28      0.21      0.36   1223.86      1.00\n",
      "    phi[5]      0.29      0.05      0.28      0.21      0.36    717.95      1.00\n",
      "    phi[6]      0.28      0.04      0.27      0.21      0.35    886.76      1.00\n",
      "    phi[7]      0.27      0.04      0.27      0.19      0.33    945.24      1.00\n",
      "    phi[8]      0.26      0.04      0.26      0.19      0.33   1319.73      1.00\n",
      "    phi[9]      0.26      0.04      0.25      0.18      0.33    885.58      1.00\n",
      "   phi[10]      0.25      0.04      0.25      0.18      0.32   1139.52      1.00\n",
      "   phi[11]      0.25      0.05      0.25      0.18      0.33    978.76      1.00\n",
      "   phi[12]      0.25      0.04      0.24      0.18      0.32    687.10      1.00\n",
      "   phi[13]      0.25      0.04      0.25      0.18      0.31    747.64      1.00\n",
      "   phi[14]      0.25      0.04      0.25      0.19      0.32    801.40      1.00\n",
      "   phi[15]      0.24      0.04      0.24      0.17      0.30    935.89      1.00\n",
      "   phi[16]      0.23      0.04      0.23      0.15      0.29    892.28      1.00\n",
      "   phi[17]      0.22      0.04      0.22      0.15      0.29    705.61      1.00\n",
      "\n",
      "Number of divergences: 0\n"
     ]
    }
   ],
   "source": [
    "model = partially_pooled\n",
    "\n",
    "# Run the inference\n",
    "mcmc = run_inference(model, at_bats, hits)\n",
    "mcmc.print_summary()"
   ]
  },
  {
   "cell_type": "markdown",
   "metadata": {},
   "source": [
    "### Partial Pooling with logit link function\n",
    "\n",
    "$$\n",
    "\\begin{aligned}\n",
    "K_i &\\sim \\operatorname{Binomial}(\\alpha_i) \\\\\n",
    "\\alpha_i &\\sim \\operatorname{Normal}(\\mu, \\sigma) \\\\\n",
    "\\mu &\\sim \\operatorname{Normal}(-1, 1) \\\\\n",
    "\\sigma &\\sim \\operatorname{HalfCauchy}(1)\\\\\n",
    "\\end{aligned}\n",
    "$$\n",
    "\n",
    "Number of hits has a Binomial distribution with a logit link function. The logits $\\alpha$ for each player is normally distributed with the mean and scale parameters sharing a common prior."
   ]
  },
  {
   "cell_type": "code",
   "execution_count": 17,
   "metadata": {},
   "outputs": [
    {
     "data": {
      "image/svg+xml": [
       "<?xml version=\"1.0\" encoding=\"UTF-8\" standalone=\"no\"?>\n",
       "<!DOCTYPE svg PUBLIC \"-//W3C//DTD SVG 1.1//EN\"\n",
       " \"http://www.w3.org/Graphics/SVG/1.1/DTD/svg11.dtd\">\n",
       "<!-- Generated by graphviz version 2.43.0 (0)\n",
       " -->\n",
       "<!-- Title: %3 Pages: 1 -->\n",
       "<svg width=\"336pt\" height=\"259pt\"\n",
       " viewBox=\"0.00 0.00 336.00 259.00\" xmlns=\"http://www.w3.org/2000/svg\" xmlns:xlink=\"http://www.w3.org/1999/xlink\">\n",
       "<g id=\"graph0\" class=\"graph\" transform=\"scale(1 1) rotate(0) translate(4 255)\">\n",
       "<title>%3</title>\n",
       "<polygon fill=\"white\" stroke=\"transparent\" points=\"-4,4 -4,-255 332,-255 332,4 -4,4\"/>\n",
       "<g id=\"clust1\" class=\"cluster\">\n",
       "<title>cluster_num_players</title>\n",
       "<polygon fill=\"none\" stroke=\"black\" points=\"13,-8 13,-155 120,-155 120,-8 13,-8\"/>\n",
       "<text text-anchor=\"middle\" x=\"66.5\" y=\"-15.8\" font-family=\"Times,serif\" font-size=\"14.00\">num_players</text>\n",
       "</g>\n",
       "<!-- loc -->\n",
       "<g id=\"node1\" class=\"node\">\n",
       "<title>loc</title>\n",
       "<ellipse fill=\"white\" stroke=\"black\" cx=\"27\" cy=\"-217\" rx=\"27\" ry=\"18\"/>\n",
       "<text text-anchor=\"middle\" x=\"27\" y=\"-213.3\" font-family=\"Times,serif\" font-size=\"14.00\">loc</text>\n",
       "</g>\n",
       "<!-- alpha -->\n",
       "<g id=\"node3\" class=\"node\">\n",
       "<title>alpha</title>\n",
       "<ellipse fill=\"white\" stroke=\"black\" cx=\"66\" cy=\"-129\" rx=\"36.29\" ry=\"18\"/>\n",
       "<text text-anchor=\"middle\" x=\"66\" y=\"-125.3\" font-family=\"Times,serif\" font-size=\"14.00\">alpha</text>\n",
       "</g>\n",
       "<!-- loc&#45;&gt;alpha -->\n",
       "<g id=\"edge1\" class=\"edge\">\n",
       "<title>loc&#45;&gt;alpha</title>\n",
       "<path fill=\"none\" stroke=\"black\" d=\"M34.52,-199.42C40.09,-187.12 47.8,-170.13 54.2,-156.03\"/>\n",
       "<polygon fill=\"black\" stroke=\"black\" points=\"57.43,-157.38 58.37,-146.82 51.05,-154.49 57.43,-157.38\"/>\n",
       "</g>\n",
       "<!-- scale -->\n",
       "<g id=\"node2\" class=\"node\">\n",
       "<title>scale</title>\n",
       "<ellipse fill=\"white\" stroke=\"black\" cx=\"106\" cy=\"-217\" rx=\"34.39\" ry=\"18\"/>\n",
       "<text text-anchor=\"middle\" x=\"106\" y=\"-213.3\" font-family=\"Times,serif\" font-size=\"14.00\">scale</text>\n",
       "</g>\n",
       "<!-- scale&#45;&gt;alpha -->\n",
       "<g id=\"edge2\" class=\"edge\">\n",
       "<title>scale&#45;&gt;alpha</title>\n",
       "<path fill=\"none\" stroke=\"black\" d=\"M98.29,-199.42C92.57,-187.12 84.66,-170.13 78.11,-156.03\"/>\n",
       "<polygon fill=\"black\" stroke=\"black\" points=\"81.22,-154.42 73.83,-146.82 74.87,-157.37 81.22,-154.42\"/>\n",
       "</g>\n",
       "<!-- obs -->\n",
       "<g id=\"node4\" class=\"node\">\n",
       "<title>obs</title>\n",
       "<ellipse fill=\"grey\" stroke=\"black\" cx=\"66\" cy=\"-57\" rx=\"27\" ry=\"18\"/>\n",
       "<text text-anchor=\"middle\" x=\"66\" y=\"-53.3\" font-family=\"Times,serif\" font-size=\"14.00\">obs</text>\n",
       "</g>\n",
       "<!-- alpha&#45;&gt;obs -->\n",
       "<g id=\"edge3\" class=\"edge\">\n",
       "<title>alpha&#45;&gt;obs</title>\n",
       "<path fill=\"none\" stroke=\"black\" d=\"M66,-110.7C66,-102.98 66,-93.71 66,-85.11\"/>\n",
       "<polygon fill=\"black\" stroke=\"black\" points=\"69.5,-85.1 66,-75.1 62.5,-85.1 69.5,-85.1\"/>\n",
       "</g>\n",
       "<!-- distribution_description_node -->\n",
       "<g id=\"node5\" class=\"node\">\n",
       "<title>distribution_description_node</title>\n",
       "<text text-anchor=\"start\" x=\"166\" y=\"-235.8\" font-family=\"Times,serif\" font-size=\"14.00\">loc ~ Normal</text>\n",
       "<text text-anchor=\"start\" x=\"166\" y=\"-220.8\" font-family=\"Times,serif\" font-size=\"14.00\">scale ~ HalfCauchy</text>\n",
       "<text text-anchor=\"start\" x=\"166\" y=\"-205.8\" font-family=\"Times,serif\" font-size=\"14.00\">alpha ~ Normal</text>\n",
       "<text text-anchor=\"start\" x=\"166\" y=\"-190.8\" font-family=\"Times,serif\" font-size=\"14.00\">obs ~ BinomialLogits</text>\n",
       "</g>\n",
       "</g>\n",
       "</svg>\n"
      ],
      "text/plain": [
       "<graphviz.graphs.Digraph at 0x7f1e41538fd0>"
      ]
     },
     "execution_count": 17,
     "metadata": {},
     "output_type": "execute_result"
    }
   ],
   "source": [
    "def partially_pooled_with_logit(at_bats, hits):\n",
    "    r\"\"\"\n",
    "    Number of hits has a Binomial distribution with a logit link function.\n",
    "    The logits $\\alpha$ for each player is normally distributed with the\n",
    "    mean and scale parameters sharing a common prior.\n",
    "\n",
    "    Parameters\n",
    "    ----------\n",
    "    at_bats: Number of at bats for each player.\n",
    "    hits: Number of hits for the given at bats.\n",
    "    \n",
    "    Returns\n",
    "    -------\n",
    "    Number of hits predicted by the model.\n",
    "    \"\"\"\n",
    "    num_players = at_bats.shape[0]\n",
    "    loc = numpyro.sample(\"loc\", dist.Normal(-1, 1))\n",
    "    scale = numpyro.sample(\"scale\", dist.HalfCauchy(1))\n",
    "    with numpyro.plate(\"num_players\", num_players):\n",
    "        alpha = numpyro.sample(\"alpha\", dist.Normal(loc, scale))\n",
    "        return numpyro.sample(\"obs\", dist.Binomial(at_bats, logits=alpha), obs=hits)\n",
    "    \n",
    "numpyro.render_model(partially_pooled_with_logit, (at_bats, hits), render_distributions=True)"
   ]
  },
  {
   "cell_type": "code",
   "execution_count": 18,
   "metadata": {},
   "outputs": [
    {
     "data": {
      "application/vnd.jupyter.widget-view+json": {
       "model_id": "c03955443bf24534a40eeaeb9953a33c",
       "version_major": 2,
       "version_minor": 0
      },
      "text/plain": [
       "  0%|          | 0/300 [00:00<?, ?it/s]"
      ]
     },
     "metadata": {},
     "output_type": "display_data"
    },
    {
     "data": {
      "application/vnd.jupyter.widget-view+json": {
       "model_id": "78302724df674e29b9db93bd44f54042",
       "version_major": 2,
       "version_minor": 0
      },
      "text/plain": [
       "  0%|          | 0/300 [00:00<?, ?it/s]"
      ]
     },
     "metadata": {},
     "output_type": "display_data"
    },
    {
     "data": {
      "application/vnd.jupyter.widget-view+json": {
       "model_id": "78386c1eac93435491b2d7660f3e2667",
       "version_major": 2,
       "version_minor": 0
      },
      "text/plain": [
       "  0%|          | 0/300 [00:00<?, ?it/s]"
      ]
     },
     "metadata": {},
     "output_type": "display_data"
    },
    {
     "data": {
      "application/vnd.jupyter.widget-view+json": {
       "model_id": "32b218e4b65646cdb701f788afa348a1",
       "version_major": 2,
       "version_minor": 0
      },
      "text/plain": [
       "  0%|          | 0/300 [00:00<?, ?it/s]"
      ]
     },
     "metadata": {},
     "output_type": "display_data"
    },
    {
     "name": "stdout",
     "output_type": "stream",
     "text": [
      "\n",
      "                mean       std    median      5.0%     95.0%     n_eff     r_hat\n",
      "  alpha[0]     -0.88      0.19     -0.91     -1.17     -0.58    188.28      1.03\n",
      "  alpha[1]     -0.91      0.19     -0.94     -1.25     -0.62    242.08      1.02\n",
      "  alpha[2]     -0.93      0.17     -0.95     -1.22     -0.66    350.67      1.01\n",
      "  alpha[3]     -0.95      0.17     -0.96     -1.22     -0.67    463.89      1.00\n",
      "  alpha[4]     -0.98      0.17     -0.98     -1.25     -0.69    372.72      1.02\n",
      "  alpha[5]     -0.98      0.17     -0.99     -1.27     -0.73    408.68      1.01\n",
      "  alpha[6]     -1.01      0.17     -1.01     -1.27     -0.75    668.06      1.00\n",
      "  alpha[7]     -1.02      0.17     -1.02     -1.31     -0.77    798.54      1.01\n",
      "  alpha[8]     -1.06      0.16     -1.05     -1.31     -0.81    311.74      1.01\n",
      "  alpha[9]     -1.05      0.17     -1.04     -1.32     -0.79    587.79      1.00\n",
      " alpha[10]     -1.07      0.16     -1.06     -1.35     -0.84    432.34      1.01\n",
      " alpha[11]     -1.08      0.18     -1.06     -1.38     -0.81    306.86      1.02\n",
      " alpha[12]     -1.06      0.17     -1.06     -1.34     -0.79    550.74      1.01\n",
      " alpha[13]     -1.07      0.18     -1.06     -1.36     -0.78    434.43      1.01\n",
      " alpha[14]     -1.07      0.18     -1.06     -1.37     -0.83    296.29      1.01\n",
      " alpha[15]     -1.10      0.19     -1.08     -1.40     -0.81    312.44      1.01\n",
      " alpha[16]     -1.11      0.17     -1.09     -1.38     -0.84    187.93      1.03\n",
      " alpha[17]     -1.14      0.20     -1.11     -1.43     -0.84    204.84      1.02\n",
      "       loc     -1.03      0.09     -1.03     -1.18     -0.90    242.96      1.01\n",
      "     scale      0.17      0.10      0.15      0.04      0.30     47.46      1.10\n",
      "\n",
      "Number of divergences: 17\n"
     ]
    }
   ],
   "source": [
    "model = partially_pooled_with_logit\n",
    "\n",
    "# Run the inference\n",
    "mcmc = run_inference(model, at_bats, hits)\n",
    "mcmc.print_summary()"
   ]
  },
  {
   "cell_type": "code",
   "execution_count": null,
   "metadata": {},
   "outputs": [],
   "source": []
  }
 ],
 "metadata": {
  "kernelspec": {
   "display_name": ".venv",
   "language": "python",
   "name": "python3"
  },
  "language_info": {
   "codemirror_mode": {
    "name": "ipython",
    "version": 3
   },
   "file_extension": ".py",
   "mimetype": "text/x-python",
   "name": "python",
   "nbconvert_exporter": "python",
   "pygments_lexer": "ipython3",
   "version": "3.10.13"
  }
 },
 "nbformat": 4,
 "nbformat_minor": 2
}
