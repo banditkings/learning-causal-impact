{
 "cells": [
  {
   "cell_type": "markdown",
   "metadata": {},
   "source": [
    "# Toy example of hierarchical models in `numpyro`\n",
    "\n",
    "In which we use the simplest possible toy example of a hierarchical model to get used to the syntax, and then follow that up with an example with hierarchical linear regression."
   ]
  },
  {
   "cell_type": "code",
   "execution_count": 1,
   "metadata": {},
   "outputs": [],
   "source": [
    "# Modeling\n",
    "import numpyro\n",
    "import numpyro.distributions as dist\n",
    "from jax import random\n",
    "import jax.numpy as jnp\n",
    "from numpyro.infer import MCMC, NUTS, Predictive\n",
    "\n",
    "# Diagnostics and Viz\n",
    "import arviz as az\n",
    "from numpyro.diagnostics import hpdi\n",
    "import matplotlib.pyplot as plt\n",
    "\n",
    "import polars as pl"
   ]
  },
  {
   "cell_type": "markdown",
   "metadata": {},
   "source": [
    "We'll start by creating some sample data. "
   ]
  },
  {
   "cell_type": "code",
   "execution_count": 2,
   "metadata": {},
   "outputs": [
    {
     "data": {
      "text/html": [
       "<div><style>\n",
       ".dataframe > thead > tr,\n",
       ".dataframe > tbody > tr {\n",
       "  text-align: right;\n",
       "  white-space: pre-wrap;\n",
       "}\n",
       "</style>\n",
       "<small>shape: (5, 2)</small><table border=\"1\" class=\"dataframe\"><thead><tr><th>store_index</th><th>sales</th></tr><tr><td>i64</td><td>f64</td></tr></thead><tbody><tr><td>0</td><td>62.0</td></tr><tr><td>0</td><td>49.0</td></tr><tr><td>0</td><td>64.0</td></tr><tr><td>0</td><td>61.0</td></tr><tr><td>0</td><td>68.0</td></tr></tbody></table></div>"
      ],
      "text/plain": [
       "shape: (5, 2)\n",
       "┌─────────────┬───────┐\n",
       "│ store_index ┆ sales │\n",
       "│ ---         ┆ ---   │\n",
       "│ i64         ┆ f64   │\n",
       "╞═════════════╪═══════╡\n",
       "│ 0           ┆ 62.0  │\n",
       "│ 0           ┆ 49.0  │\n",
       "│ 0           ┆ 64.0  │\n",
       "│ 0           ┆ 61.0  │\n",
       "│ 0           ┆ 68.0  │\n",
       "└─────────────┴───────┘"
      ]
     },
     "execution_count": 2,
     "metadata": {},
     "output_type": "execute_result"
    }
   ],
   "source": [
    "rng_key = random.PRNGKey(42)\n",
    "key1, key2 = random.split(rng_key, num=2)\n",
    "global_p = 0.5\n",
    "store_effects = [0.1, -0.05]\n",
    "\n",
    "num_obs_per_store = 50\n",
    "s1 = random.binomial(key1, n=100, p=global_p + store_effects[0], shape=num_obs_per_store)\n",
    "s2 = random.binomial(key2, n=100, p=global_p + store_effects[1], shape=num_obs_per_store)\n",
    "\n",
    "sales_obs = jnp.concatenate([s1, s2])\n",
    "store_indices = jnp.concatenate([jnp.zeros(len(s1), dtype=int), jnp.ones(len(s2), dtype=int)])\n",
    "\n",
    "data = pl.DataFrame({'store_index': store_indices.tolist(), 'sales':sales_obs.tolist()})\n",
    "data.head()"
   ]
  },
  {
   "cell_type": "code",
   "execution_count": 3,
   "metadata": {},
   "outputs": [
    {
     "data": {
      "text/plain": [
       "(array([ 4.,  7., 13., 14., 11.,  6., 13., 13., 12.,  7.]),\n",
       " array([35.        , 38.29999924, 41.59999847, 44.90000153, 48.20000076,\n",
       "        51.5       , 54.79999924, 58.09999847, 61.40000153, 64.69999695,\n",
       "        68.        ]),\n",
       " <BarContainer object of 10 artists>)"
      ]
     },
     "execution_count": 3,
     "metadata": {},
     "output_type": "execute_result"
    },
    {
     "data": {
      "image/png": "[encoded data removed]",
      "text/plain": [
       "<Figure size 640x480 with 1 Axes>"
      ]
     },
     "metadata": {},
     "output_type": "display_data"
    }
   ],
   "source": [
    "plt.hist(sales_obs)"
   ]
  },
  {
   "cell_type": "markdown",
   "metadata": {},
   "source": [
    "Let's consider a generic sales model and we would like to infer this unknown probability $p$ of purchases of our product among a subset of 50 customers."
   ]
  },
  {
   "cell_type": "code",
   "execution_count": 4,
   "metadata": {},
   "outputs": [],
   "source": [
    "def run_inference(model, num_customers, sales_obs, store_indices=None):\n",
    "    # Run the inference\n",
    "    kernel = NUTS(model)\n",
    "    mcmc = MCMC(kernel, num_warmup=500, num_samples=1000, num_chains=4)\n",
    "    mcmc.run(random.PRNGKey(1), num_customers, sales_obs, store_indices)\n",
    "    return mcmc"
   ]
  },
  {
   "cell_type": "markdown",
   "metadata": {},
   "source": [
    "In the unpooled case, we set a single prior for the common/shared probability $p$ of success for our stores:"
   ]
  },
  {
   "cell_type": "code",
   "execution_count": 5,
   "metadata": {},
   "outputs": [
    {
     "data": {
      "image/svg+xml": [
       "<?xml version=\"1.0\" encoding=\"UTF-8\" standalone=\"no\"?>\n",
       "<!DOCTYPE svg PUBLIC \"-//W3C//DTD SVG 1.1//EN\"\n",
       " \"http://www.w3.org/Graphics/SVG/1.1/DTD/svg11.dtd\">\n",
       "<!-- Generated by graphviz version 9.0.0 (20230911.1827)\n",
       " -->\n",
       "<!-- Pages: 1 -->\n",
       "<svg width=\"228pt\" height=\"162pt\"\n",
       " viewBox=\"0.00 0.00 227.75 161.50\" xmlns=\"http://www.w3.org/2000/svg\" xmlns:xlink=\"http://www.w3.org/1999/xlink\">\n",
       "<g id=\"graph0\" class=\"graph\" transform=\"scale(1 1) rotate(0) translate(4 157.5)\">\n",
       "<polygon fill=\"white\" stroke=\"none\" points=\"-4,4 -4,-157.5 223.75,-157.5 223.75,4 -4,4\"/>\n",
       "<g id=\"clust1\" class=\"cluster\">\n",
       "<title>cluster_n</title>\n",
       "<polygon fill=\"none\" stroke=\"black\" points=\"8,-8 8,-84.5 78,-84.5 78,-8 8,-8\"/>\n",
       "<text text-anchor=\"middle\" x=\"66.62\" y=\"-15.2\" font-family=\"Times,serif\" font-size=\"14.00\">n</text>\n",
       "</g>\n",
       "<!-- p -->\n",
       "<g id=\"node1\" class=\"node\">\n",
       "<title>p</title>\n",
       "<ellipse fill=\"white\" stroke=\"black\" cx=\"43\" cy=\"-133\" rx=\"27\" ry=\"18\"/>\n",
       "<text text-anchor=\"middle\" x=\"43\" y=\"-127.95\" font-family=\"Times,serif\" font-size=\"14.00\">p</text>\n",
       "</g>\n",
       "<!-- obs -->\n",
       "<g id=\"node2\" class=\"node\">\n",
       "<title>obs</title>\n",
       "<ellipse fill=\"grey\" stroke=\"black\" cx=\"43\" cy=\"-58.5\" rx=\"27\" ry=\"18\"/>\n",
       "<text text-anchor=\"middle\" x=\"43\" y=\"-53.45\" font-family=\"Times,serif\" font-size=\"14.00\">obs</text>\n",
       "</g>\n",
       "<!-- p&#45;&gt;obs -->\n",
       "<g id=\"edge1\" class=\"edge\">\n",
       "<title>p&#45;&gt;obs</title>\n",
       "<path fill=\"none\" stroke=\"black\" d=\"M43,-114.82C43,-106.78 43,-97 43,-87.91\"/>\n",
       "<polygon fill=\"black\" stroke=\"black\" points=\"46.5,-88.07 43,-78.07 39.5,-88.07 46.5,-88.07\"/>\n",
       "</g>\n",
       "<!-- distribution_description_node -->\n",
       "<g id=\"node3\" class=\"node\">\n",
       "<title>distribution_description_node</title>\n",
       "<text text-anchor=\"start\" x=\"96.25\" y=\"-136.2\" font-family=\"Times,serif\" font-size=\"14.00\">p ~ Uniform</text>\n",
       "<text text-anchor=\"start\" x=\"96.25\" y=\"-119.7\" font-family=\"Times,serif\" font-size=\"14.00\">obs ~ BinomialProbs</text>\n",
       "</g>\n",
       "</g>\n",
       "</svg>\n"
      ],
      "text/plain": [
       "<graphviz.graphs.Digraph at 0x31a022290>"
      ]
     },
     "execution_count": 5,
     "metadata": {},
     "output_type": "execute_result"
    }
   ],
   "source": [
    "def unpooled(num_customers, sales_obs, store_indices=None):\n",
    "    p = numpyro.sample(\"p\", dist.Uniform(0, 1))\n",
    "\n",
    "    with numpyro.plate(\"n\", len(sales_obs)):\n",
    "        likelihood = numpyro.sample(\"obs\", dist.Binomial(num_customers, p), obs=sales_obs)\n",
    "        return likelihood\n",
    "    \n",
    "numpyro.render_model(unpooled, (100, sales_obs), render_distributions=True)"
   ]
  },
  {
   "cell_type": "code",
   "execution_count": 6,
   "metadata": {},
   "outputs": [
    {
     "name": "stderr",
     "output_type": "stream",
     "text": [
      "/var/folders/d5/nxx4jgmn0_5clxt1q54qmb740000gp/T/ipykernel_75550/1099705408.py:4: UserWarning: There are not enough devices to run parallel chains: expected 4 but got 1. Chains will be drawn sequentially. If you are running MCMC in CPU, consider using `numpyro.set_host_device_count(4)` at the beginning of your program. You can double-check how many devices are available in your system using `jax.local_device_count()`.\n",
      "  mcmc = MCMC(kernel, num_warmup=500, num_samples=1000, num_chains=4)\n",
      "sample: 100%|██████████| 1500/1500 [00:00<00:00, 2560.23it/s, 3 steps of size 1.02e+00. acc. prob=0.91]\n",
      "sample: 100%|██████████| 1500/1500 [00:00<00:00, 8521.61it/s, 3 steps of size 1.10e+00. acc. prob=0.92]\n",
      "sample: 100%|██████████| 1500/1500 [00:00<00:00, 8556.02it/s, 3 steps of size 9.89e-01. acc. prob=0.92]\n",
      "sample: 100%|██████████| 1500/1500 [00:00<00:00, 8709.80it/s, 1 steps of size 1.16e+00. acc. prob=0.90]\n"
     ]
    },
    {
     "data": {
      "text/html": [
       "<div>\n",
       "<style scoped>\n",
       "    .dataframe tbody tr th:only-of-type {\n",
       "        vertical-align: middle;\n",
       "    }\n",
       "\n",
       "    .dataframe tbody tr th {\n",
       "        vertical-align: top;\n",
       "    }\n",
       "\n",
       "    .dataframe thead th {\n",
       "        text-align: right;\n",
       "    }\n",
       "</style>\n",
       "<table border=\"1\" class=\"dataframe\">\n",
       "  <thead>\n",
       "    <tr style=\"text-align: right;\">\n",
       "      <th></th>\n",
       "      <th>mean</th>\n",
       "      <th>sd</th>\n",
       "      <th>hdi_3%</th>\n",
       "      <th>hdi_97%</th>\n",
       "      <th>mcse_mean</th>\n",
       "      <th>mcse_sd</th>\n",
       "      <th>ess_bulk</th>\n",
       "      <th>ess_tail</th>\n",
       "      <th>r_hat</th>\n",
       "    </tr>\n",
       "  </thead>\n",
       "  <tbody>\n",
       "    <tr>\n",
       "      <th>p</th>\n",
       "      <td>0.524</td>\n",
       "      <td>0.005</td>\n",
       "      <td>0.515</td>\n",
       "      <td>0.534</td>\n",
       "      <td>0.0</td>\n",
       "      <td>0.0</td>\n",
       "      <td>1566.0</td>\n",
       "      <td>2179.0</td>\n",
       "      <td>1.0</td>\n",
       "    </tr>\n",
       "  </tbody>\n",
       "</table>\n",
       "</div>"
      ],
      "text/plain": [
       "    mean     sd  hdi_3%  hdi_97%  mcse_mean  mcse_sd  ess_bulk  ess_tail  \\\n",
       "p  0.524  0.005   0.515    0.534        0.0      0.0    1566.0    2179.0   \n",
       "\n",
       "   r_hat  \n",
       "p    1.0  "
      ]
     },
     "execution_count": 6,
     "metadata": {},
     "output_type": "execute_result"
    }
   ],
   "source": [
    "mcmc = run_inference(unpooled, 100, sales_obs)\n",
    "az.summary(mcmc)"
   ]
  },
  {
   "cell_type": "markdown",
   "metadata": {},
   "source": [
    "And we see that we get a fairly fast result."
   ]
  },
  {
   "cell_type": "markdown",
   "metadata": {},
   "source": [
    "In the partially pooled model, we'll set a hyperprior for the 'global' probability $p$ and there is some 'store effect' that adds or subtracts from this global probability."
   ]
  },
  {
   "cell_type": "code",
   "execution_count": 7,
   "metadata": {},
   "outputs": [
    {
     "data": {
      "image/svg+xml": [
       "<?xml version=\"1.0\" encoding=\"UTF-8\" standalone=\"no\"?>\n",
       "<!DOCTYPE svg PUBLIC \"-//W3C//DTD SVG 1.1//EN\"\n",
       " \"http://www.w3.org/Graphics/SVG/1.1/DTD/svg11.dtd\">\n",
       "<!-- Generated by graphviz version 9.0.0 (20230911.1827)\n",
       " -->\n",
       "<!-- Pages: 1 -->\n",
       "<svg width=\"385pt\" height=\"279pt\"\n",
       " viewBox=\"0.00 0.00 384.66 279.00\" xmlns=\"http://www.w3.org/2000/svg\" xmlns:xlink=\"http://www.w3.org/1999/xlink\">\n",
       "<g id=\"graph0\" class=\"graph\" transform=\"scale(1 1) rotate(0) translate(4 275)\">\n",
       "<polygon fill=\"white\" stroke=\"none\" points=\"-4,4 -4,-275 380.66,-275 380.66,4 -4,4\"/>\n",
       "<g id=\"clust1\" class=\"cluster\">\n",
       "<title>cluster_num_stores</title>\n",
       "<polygon fill=\"none\" stroke=\"black\" points=\"97.16,-92.5 97.16,-260 221.16,-260 221.16,-92.5 97.16,-92.5\"/>\n",
       "<text text-anchor=\"middle\" x=\"181.66\" y=\"-99.7\" font-family=\"Times,serif\" font-size=\"14.00\">num_stores</text>\n",
       "</g>\n",
       "<g id=\"clust2\" class=\"cluster\">\n",
       "<title>cluster_n</title>\n",
       "<polygon fill=\"none\" stroke=\"black\" points=\"116.16,-8 116.16,-84.5 186.16,-84.5 186.16,-8 116.16,-8\"/>\n",
       "<text text-anchor=\"middle\" x=\"174.79\" y=\"-15.2\" font-family=\"Times,serif\" font-size=\"14.00\">n</text>\n",
       "</g>\n",
       "<!-- global_p -->\n",
       "<g id=\"node1\" class=\"node\">\n",
       "<title>global_p</title>\n",
       "<ellipse fill=\"white\" stroke=\"black\" cx=\"43.16\" cy=\"-234\" rx=\"43.16\" ry=\"18\"/>\n",
       "<text text-anchor=\"middle\" x=\"43.16\" y=\"-228.95\" font-family=\"Times,serif\" font-size=\"14.00\">global_p</text>\n",
       "</g>\n",
       "<!-- store_p -->\n",
       "<g id=\"node3\" class=\"node\">\n",
       "<title>store_p</title>\n",
       "<ellipse fill=\"white\" stroke=\"black\" stroke-dasharray=\"5,2\" cx=\"151.16\" cy=\"-143\" rx=\"38.04\" ry=\"18\"/>\n",
       "<text text-anchor=\"middle\" x=\"151.16\" y=\"-137.95\" font-family=\"Times,serif\" font-size=\"14.00\">store_p</text>\n",
       "</g>\n",
       "<!-- global_p&#45;&gt;store_p -->\n",
       "<g id=\"edge1\" class=\"edge\">\n",
       "<title>global_p&#45;&gt;store_p</title>\n",
       "<path fill=\"none\" stroke=\"black\" d=\"M61.97,-217.5C79.19,-203.31 104.86,-182.16 124.25,-166.18\"/>\n",
       "<polygon fill=\"black\" stroke=\"black\" points=\"126.27,-169.05 131.76,-159.99 121.81,-163.65 126.27,-169.05\"/>\n",
       "</g>\n",
       "<!-- store_effect -->\n",
       "<g id=\"node2\" class=\"node\">\n",
       "<title>store_effect</title>\n",
       "<ellipse fill=\"white\" stroke=\"black\" cx=\"159.16\" cy=\"-234\" rx=\"54.42\" ry=\"18\"/>\n",
       "<text text-anchor=\"middle\" x=\"159.16\" y=\"-228.95\" font-family=\"Times,serif\" font-size=\"14.00\">store_effect</text>\n",
       "</g>\n",
       "<!-- store_effect&#45;&gt;store_p -->\n",
       "<g id=\"edge2\" class=\"edge\">\n",
       "<title>store_effect&#45;&gt;store_p</title>\n",
       "<path fill=\"none\" stroke=\"black\" d=\"M157.62,-215.84C156.52,-203.61 155.02,-186.87 153.74,-172.63\"/>\n",
       "<polygon fill=\"black\" stroke=\"black\" points=\"157.24,-172.57 152.86,-162.92 150.27,-173.19 157.24,-172.57\"/>\n",
       "</g>\n",
       "<!-- obs -->\n",
       "<g id=\"node4\" class=\"node\">\n",
       "<title>obs</title>\n",
       "<ellipse fill=\"grey\" stroke=\"black\" cx=\"151.16\" cy=\"-58.5\" rx=\"27\" ry=\"18\"/>\n",
       "<text text-anchor=\"middle\" x=\"151.16\" y=\"-53.45\" font-family=\"Times,serif\" font-size=\"14.00\">obs</text>\n",
       "</g>\n",
       "<!-- store_p&#45;&gt;obs -->\n",
       "<g id=\"edge3\" class=\"edge\">\n",
       "<title>store_p&#45;&gt;obs</title>\n",
       "<path fill=\"none\" stroke=\"black\" d=\"M151.16,-124.5C151.16,-114 151.16,-100.39 151.16,-88.33\"/>\n",
       "<polygon fill=\"black\" stroke=\"black\" points=\"154.66,-88.48 151.16,-78.48 147.66,-88.48 154.66,-88.48\"/>\n",
       "</g>\n",
       "<!-- distribution_description_node -->\n",
       "<g id=\"node5\" class=\"node\">\n",
       "<title>distribution_description_node</title>\n",
       "<text text-anchor=\"start\" x=\"239.66\" y=\"-253.7\" font-family=\"Times,serif\" font-size=\"14.00\">global_p ~ Beta</text>\n",
       "<text text-anchor=\"start\" x=\"239.66\" y=\"-237.2\" font-family=\"Times,serif\" font-size=\"14.00\">store_effect ~ Normal</text>\n",
       "<text text-anchor=\"start\" x=\"239.66\" y=\"-220.7\" font-family=\"Times,serif\" font-size=\"14.00\">store_p ~ Deterministic</text>\n",
       "<text text-anchor=\"start\" x=\"239.66\" y=\"-204.2\" font-family=\"Times,serif\" font-size=\"14.00\">obs ~ BinomialProbs</text>\n",
       "</g>\n",
       "</g>\n",
       "</svg>\n"
      ],
      "text/plain": [
       "<graphviz.graphs.Digraph at 0x32b51c730>"
      ]
     },
     "execution_count": 7,
     "metadata": {},
     "output_type": "execute_result"
    }
   ],
   "source": [
    "# partial pooled\n",
    "def partial_pooled(num_customers, sales_obs, store_indices):\n",
    "    # Need hyperpriors for each probability p\n",
    "    global_p = numpyro.sample(\"global_p\", dist.Beta(1, 1))\n",
    "\n",
    "    with numpyro.plate(\"num_stores\", 2):\n",
    "        store_effects = numpyro.sample(\"store_effect\", dist.Normal(0,0.1))\n",
    "        p = numpyro.deterministic(\"store_p\", jnp.clip(global_p + store_effects, 0, 1))\n",
    "\n",
    "    with numpyro.plate(\"n\", len(sales_obs)):\n",
    "        return numpyro.sample(\"obs\", dist.Binomial(num_customers, p[store_indices]), obs=sales_obs)\n",
    "    \n",
    "numpyro.render_model(partial_pooled, (100, sales_obs, store_indices), render_distributions=True)"
   ]
  },
  {
   "cell_type": "markdown",
   "metadata": {},
   "source": [
    "From a code standpoint, we added 3 major elements:\n",
    "1. A 'hyperprior' `global_p` set to Beta(1,1) for our global probability\n",
    "2. Add a plate context for the number of stores and a prior for the store effects\n",
    "3. Add an index to the store probability where it's used as a parameter `p[store_indices]` in the final `dist.Binomial()` definition. Recall that the `store_indices` is just an array of `[0,1]` but it could be any integer index"
   ]
  },
  {
   "cell_type": "code",
   "execution_count": 8,
   "metadata": {},
   "outputs": [
    {
     "name": "stderr",
     "output_type": "stream",
     "text": [
      "/var/folders/d5/nxx4jgmn0_5clxt1q54qmb740000gp/T/ipykernel_75550/1099705408.py:4: UserWarning: There are not enough devices to run parallel chains: expected 4 but got 1. Chains will be drawn sequentially. If you are running MCMC in CPU, consider using `numpyro.set_host_device_count(4)` at the beginning of your program. You can double-check how many devices are available in your system using `jax.local_device_count()`.\n",
      "  mcmc = MCMC(kernel, num_warmup=500, num_samples=1000, num_chains=4)\n",
      "sample: 100%|██████████| 1500/1500 [00:00<00:00, 1836.56it/s, 11 steps of size 7.17e-02. acc. prob=0.93]\n",
      "sample: 100%|██████████| 1500/1500 [00:00<00:00, 3503.35it/s, 47 steps of size 7.15e-02. acc. prob=0.92]\n",
      "sample: 100%|██████████| 1500/1500 [00:00<00:00, 4850.61it/s, 7 steps of size 6.75e-02. acc. prob=0.81] \n",
      "sample: 100%|██████████| 1500/1500 [00:00<00:00, 3526.17it/s, 1 steps of size 4.23e-02. acc. prob=0.94] "
     ]
    },
    {
     "name": "stdout",
     "output_type": "stream",
     "text": [
      "\n",
      "                     mean       std    median      5.0%     95.0%     n_eff     r_hat\n",
      "       global_p      0.57      0.10      0.55      0.41      0.73      3.54      1.54\n",
      "store_effect[0]      0.14      0.13      0.11     -0.04      0.37      2.65      2.03\n",
      "store_effect[1]     -0.12      0.10     -0.10     -0.28      0.04      3.57      1.53\n",
      "\n",
      "Number of divergences: 792\n",
      "true global probability:  0.5\n",
      "true store effects:  [0.1, -0.05]\n"
     ]
    },
    {
     "name": "stderr",
     "output_type": "stream",
     "text": [
      "\n"
     ]
    }
   ],
   "source": [
    "mcmc_partial = run_inference(partial_pooled, 100, sales_obs, store_indices)\n",
    "mcmc_partial.print_summary()\n",
    "\n",
    "print(\"true global probability: \", global_p)\n",
    "print(\"true store effects: \", store_effects)"
   ]
  },
  {
   "cell_type": "markdown",
   "metadata": {},
   "source": [
    "We got the code to run and got some estimates out, but unfortunately it looks like this was a tough one for our MCMC to solve. At least it got directionally correct results. "
   ]
  },
  {
   "cell_type": "markdown",
   "metadata": {},
   "source": [
    "We can inspect the shape of what's going on in a plate context using the `numpyro.handlers.seed()` effect handler to get some samples out:"
   ]
  },
  {
   "cell_type": "code",
   "execution_count": 9,
   "metadata": {},
   "outputs": [
    {
     "name": "stdout",
     "output_type": "stream",
     "text": [
      "x.shape:  (2,)\n",
      "x samples:  [-0.08076065 -0.02418491]\n"
     ]
    }
   ],
   "source": [
    "with numpyro.handlers.seed(rng_seed=1):\n",
    "    with numpyro.plate(\"num_stores\", 2):\n",
    "        x = numpyro.sample(\"store_effect\", dist.Normal(0,0.1))\n",
    "\n",
    "print(\"x.shape: \", x.shape)\n",
    "print(\"x samples: \", x)"
   ]
  },
  {
   "cell_type": "code",
   "execution_count": 10,
   "metadata": {},
   "outputs": [
    {
     "name": "stdout",
     "output_type": "stream",
     "text": [
      "p.shape:  (2,)\n",
      "store effect samples:  [0.05752228 0.00042516]\n",
      "likelihood shape:  (100,)\n",
      "l samples:  [46 57 43 51 57 45 48 52 52 49 49 49 55 53 46 56 50 57 51 48 55 55 53 50\n",
      " 53 50 49 57 53 46 48 50 54 56 55 55 52 50 53 42 52 45 51 48 46 53 45 46\n",
      " 52 55 47 48 44 47 50 49 37 47 46 50 50 45 52 41 40 43 43 46 40 49 36 38\n",
      " 41 46 42 49 49 46 42 44 39 45 36 37 46 38 35 41 47 44 41 38 54 48 48 56\n",
      " 49 43 36 44]\n"
     ]
    }
   ],
   "source": [
    "with numpyro.handlers.seed(rng_seed=1):\n",
    "    global_p = numpyro.sample(\"global_p\", dist.Beta(1, 1))\n",
    "\n",
    "    with numpyro.plate(\"num_stores\", 2):\n",
    "        store_effects = numpyro.sample(\"store_effect\", dist.Normal(0,0.1))\n",
    "        p = numpyro.deterministic(\"store_p\", jnp.clip(global_p + store_effects, 0, 1))\n",
    "\n",
    "    with numpyro.plate(\"n\", len(sales_obs)):\n",
    "        l = numpyro.sample(\"obs\", dist.Binomial(100, p[store_indices]))\n",
    "\n",
    "print(\"p.shape: \", p.shape)\n",
    "print(\"store effect samples: \", store_effects)\n",
    "print(\"likelihood shape: \", l.shape)\n",
    "print(\"l samples: \", l)"
   ]
  },
  {
   "cell_type": "markdown",
   "metadata": {},
   "source": [
    "# Hierarchical Linear Regression Example\n",
    "\n",
    "If we expand our example and make it into a linear regression model."
   ]
  },
  {
   "cell_type": "code",
   "execution_count": 54,
   "metadata": {},
   "outputs": [],
   "source": [
    "def make_regression_data(n=100):\n",
    "    key1, key2 = random.split(random.PRNGKey(42), num=2)\n",
    "    \n",
    "    num_stores = 2\n",
    "    num_obs_per_store = int(n/num_stores)\n",
    "\n",
    "    intercept = 1000\n",
    "    slopes = [0.5, 0.9]\n",
    "    ad_spend = random.uniform(random.PRNGKey(1), shape=(num_obs_per_store * 2), minval=50, maxval=500)\n",
    "    ad_effect = jnp.concatenate([ad_spend[:num_obs_per_store] * slopes[0], ad_spend[num_obs_per_store:] * slopes[1]])\n",
    "    sales_sigma = random.normal(key2, shape=(num_obs_per_store * 2)) * 20\n",
    "    sales_base = sales_sigma + intercept\n",
    "\n",
    "    sales = sales_base + ad_effect\n",
    "\n",
    "    store_indices = jnp.concatenate([jnp.zeros(num_obs_per_store, dtype=int), jnp.ones(num_obs_per_store, dtype=int)])\n",
    "    data = {\n",
    "        'store_indices': store_indices,\n",
    "        'ad_spend': ad_spend,\n",
    "        'sales': sales\n",
    "    }\n",
    "    return data\n",
    "\n",
    "data = make_regression_data(100)"
   ]
  },
  {
   "cell_type": "code",
   "execution_count": 55,
   "metadata": {},
   "outputs": [
    {
     "data": {
      "text/plain": [
       "<matplotlib.collections.PathCollection at 0x33d521420>"
      ]
     },
     "execution_count": 55,
     "metadata": {},
     "output_type": "execute_result"
    },
    {
     "data": {
      "image/png": "[encoded data removed]",
      "text/plain": [
       "<Figure size 640x480 with 1 Axes>"
      ]
     },
     "metadata": {},
     "output_type": "display_data"
    }
   ],
   "source": [
    "plt.scatter(data['ad_spend'], data['sales'])"
   ]
  },
  {
   "cell_type": "code",
   "execution_count": 56,
   "metadata": {},
   "outputs": [
    {
     "data": {
      "text/plain": [
       "<matplotlib.collections.PathCollection at 0x341bb5150>"
      ]
     },
     "execution_count": 56,
     "metadata": {},
     "output_type": "execute_result"
    },
    {
     "data": {
      "image/png": "[encoded data removed]",
      "text/plain": [
       "<Figure size 640x480 with 1 Axes>"
      ]
     },
     "metadata": {},
     "output_type": "display_data"
    }
   ],
   "source": [
    "plt.scatter(data['ad_spend'][:50], data['sales'][:50])"
   ]
  },
  {
   "cell_type": "code",
   "execution_count": 57,
   "metadata": {},
   "outputs": [
    {
     "data": {
      "image/svg+xml": [
       "<?xml version=\"1.0\" encoding=\"UTF-8\" standalone=\"no\"?>\n",
       "<!DOCTYPE svg PUBLIC \"-//W3C//DTD SVG 1.1//EN\"\n",
       " \"http://www.w3.org/Graphics/SVG/1.1/DTD/svg11.dtd\">\n",
       "<!-- Generated by graphviz version 9.0.0 (20230911.1827)\n",
       " -->\n",
       "<!-- Pages: 1 -->\n",
       "<svg width=\"370pt\" height=\"283pt\"\n",
       " viewBox=\"0.00 0.00 370.41 283.00\" xmlns=\"http://www.w3.org/2000/svg\" xmlns:xlink=\"http://www.w3.org/1999/xlink\">\n",
       "<g id=\"graph0\" class=\"graph\" transform=\"scale(1 1) rotate(0) translate(4 279)\">\n",
       "<polygon fill=\"white\" stroke=\"none\" points=\"-4,4 -4,-279 366.41,-279 366.41,4 -4,4\"/>\n",
       "<g id=\"clust1\" class=\"cluster\">\n",
       "<title>cluster_num_stores</title>\n",
       "<polygon fill=\"none\" stroke=\"black\" points=\"96.16,-179.25 96.16,-255.75 218.16,-255.75 218.16,-179.25 96.16,-179.25\"/>\n",
       "<text text-anchor=\"middle\" x=\"178.66\" y=\"-186.45\" font-family=\"Times,serif\" font-size=\"14.00\">num_stores</text>\n",
       "</g>\n",
       "<g id=\"clust2\" class=\"cluster\">\n",
       "<title>cluster_n</title>\n",
       "<polygon fill=\"none\" stroke=\"black\" points=\"52.16,-8 52.16,-84.5 122.16,-84.5 122.16,-8 52.16,-8\"/>\n",
       "<text text-anchor=\"middle\" x=\"110.79\" y=\"-15.2\" font-family=\"Times,serif\" font-size=\"14.00\">n</text>\n",
       "</g>\n",
       "<!-- intercept -->\n",
       "<g id=\"node1\" class=\"node\">\n",
       "<title>intercept</title>\n",
       "<ellipse fill=\"white\" stroke=\"black\" cx=\"43.16\" cy=\"-229.75\" rx=\"43.16\" ry=\"18\"/>\n",
       "<text text-anchor=\"middle\" x=\"43.16\" y=\"-224.7\" font-family=\"Times,serif\" font-size=\"14.00\">intercept</text>\n",
       "</g>\n",
       "<!-- mu -->\n",
       "<g id=\"node3\" class=\"node\">\n",
       "<title>mu</title>\n",
       "<ellipse fill=\"white\" stroke=\"black\" stroke-dasharray=\"5,2\" cx=\"48.16\" cy=\"-130.5\" rx=\"27\" ry=\"18\"/>\n",
       "<text text-anchor=\"middle\" x=\"48.16\" y=\"-125.45\" font-family=\"Times,serif\" font-size=\"14.00\">mu</text>\n",
       "</g>\n",
       "<!-- intercept&#45;&gt;mu -->\n",
       "<g id=\"edge1\" class=\"edge\">\n",
       "<title>intercept&#45;&gt;mu</title>\n",
       "<path fill=\"none\" stroke=\"black\" d=\"M44.06,-211.36C44.79,-197.12 45.84,-176.67 46.7,-160.04\"/>\n",
       "<polygon fill=\"black\" stroke=\"black\" points=\"50.18,-160.41 47.2,-150.25 43.19,-160.05 50.18,-160.41\"/>\n",
       "</g>\n",
       "<!-- sigma -->\n",
       "<g id=\"node2\" class=\"node\">\n",
       "<title>sigma</title>\n",
       "<ellipse fill=\"white\" stroke=\"black\" cx=\"126.16\" cy=\"-130.5\" rx=\"33.44\" ry=\"18\"/>\n",
       "<text text-anchor=\"middle\" x=\"126.16\" y=\"-125.45\" font-family=\"Times,serif\" font-size=\"14.00\">sigma</text>\n",
       "</g>\n",
       "<!-- obs -->\n",
       "<g id=\"node5\" class=\"node\">\n",
       "<title>obs</title>\n",
       "<ellipse fill=\"grey\" stroke=\"black\" cx=\"87.16\" cy=\"-58.5\" rx=\"27\" ry=\"18\"/>\n",
       "<text text-anchor=\"middle\" x=\"87.16\" y=\"-53.45\" font-family=\"Times,serif\" font-size=\"14.00\">obs</text>\n",
       "</g>\n",
       "<!-- sigma&#45;&gt;obs -->\n",
       "<g id=\"edge3\" class=\"edge\">\n",
       "<title>sigma&#45;&gt;obs</title>\n",
       "<path fill=\"none\" stroke=\"black\" d=\"M116.92,-112.91C112.34,-104.69 106.7,-94.56 101.57,-85.35\"/>\n",
       "<polygon fill=\"black\" stroke=\"black\" points=\"104.73,-83.84 96.81,-76.81 98.62,-87.25 104.73,-83.84\"/>\n",
       "</g>\n",
       "<!-- mu&#45;&gt;obs -->\n",
       "<g id=\"edge4\" class=\"edge\">\n",
       "<title>mu&#45;&gt;obs</title>\n",
       "<path fill=\"none\" stroke=\"black\" d=\"M57.21,-113.26C61.79,-105.05 67.45,-94.87 72.63,-85.59\"/>\n",
       "<polygon fill=\"black\" stroke=\"black\" points=\"75.62,-87.41 77.43,-76.97 69.5,-84 75.62,-87.41\"/>\n",
       "</g>\n",
       "<!-- store_slope -->\n",
       "<g id=\"node4\" class=\"node\">\n",
       "<title>store_slope</title>\n",
       "<ellipse fill=\"white\" stroke=\"black\" cx=\"157.16\" cy=\"-229.75\" rx=\"52.89\" ry=\"18\"/>\n",
       "<text text-anchor=\"middle\" x=\"157.16\" y=\"-224.7\" font-family=\"Times,serif\" font-size=\"14.00\">store_slope</text>\n",
       "</g>\n",
       "<!-- store_slope&#45;&gt;mu -->\n",
       "<g id=\"edge2\" class=\"edge\">\n",
       "<title>store_slope&#45;&gt;mu</title>\n",
       "<path fill=\"none\" stroke=\"black\" d=\"M139.16,-212.69C120.83,-196.34 92.31,-170.89 72.09,-152.85\"/>\n",
       "<polygon fill=\"black\" stroke=\"black\" points=\"74.64,-150.43 64.84,-146.38 69.98,-155.65 74.64,-150.43\"/>\n",
       "</g>\n",
       "<!-- distribution_description_node -->\n",
       "<g id=\"node6\" class=\"node\">\n",
       "<title>distribution_description_node</title>\n",
       "<text text-anchor=\"start\" x=\"235.91\" y=\"-257.7\" font-family=\"Times,serif\" font-size=\"14.00\">intercept ~ Normal</text>\n",
       "<text text-anchor=\"start\" x=\"235.91\" y=\"-241.2\" font-family=\"Times,serif\" font-size=\"14.00\">sigma ~ HalfCauchy</text>\n",
       "<text text-anchor=\"start\" x=\"235.91\" y=\"-224.7\" font-family=\"Times,serif\" font-size=\"14.00\">store_slope ~ Normal</text>\n",
       "<text text-anchor=\"start\" x=\"235.91\" y=\"-208.2\" font-family=\"Times,serif\" font-size=\"14.00\">mu ~ Deterministic</text>\n",
       "<text text-anchor=\"start\" x=\"235.91\" y=\"-191.7\" font-family=\"Times,serif\" font-size=\"14.00\">obs ~ Normal</text>\n",
       "</g>\n",
       "</g>\n",
       "</svg>\n"
      ],
      "text/plain": [
       "<graphviz.graphs.Digraph at 0x33d56dab0>"
      ]
     },
     "execution_count": 57,
     "metadata": {},
     "output_type": "execute_result"
    }
   ],
   "source": [
    "# partial pooled regression example\n",
    "def partial_pooled_reg(x, store_indices, y=None):\n",
    "    # Global intercept\n",
    "    intercept = numpyro.sample(\"intercept\", dist.Normal(1000, 10))\n",
    "    sigma = numpyro.sample(\"sigma\", dist.HalfCauchy(1))\n",
    "    # sigma = 1\n",
    "\n",
    "    with numpyro.plate(\"num_stores\", 2):\n",
    "        slope = numpyro.sample(\"store_slope\", dist.Normal(0, 1))\n",
    "    \n",
    "    mu = numpyro.deterministic(\"mu\", intercept + slope[store_indices] * x)\n",
    "\n",
    "    with numpyro.plate(\"n\", len(y)):\n",
    "        return numpyro.sample(\"obs\", dist.Normal(mu, sigma), obs=y)\n",
    "    \n",
    "numpyro.render_model(partial_pooled_reg, (data['ad_spend'], data['store_indices'], data['sales']), render_distributions=True)"
   ]
  },
  {
   "cell_type": "code",
   "execution_count": 63,
   "metadata": {},
   "outputs": [
    {
     "name": "stderr",
     "output_type": "stream",
     "text": [
      "/var/folders/d5/nxx4jgmn0_5clxt1q54qmb740000gp/T/ipykernel_75550/596566369.py:2: UserWarning: There are not enough devices to run parallel chains: expected 4 but got 1. Chains will be drawn sequentially. If you are running MCMC in CPU, consider using `numpyro.set_host_device_count(4)` at the beginning of your program. You can double-check how many devices are available in your system using `jax.local_device_count()`.\n",
      "  mcmc = MCMC(kernel, num_warmup=200, num_samples=300, num_chains=4)\n",
      "sample: 100%|██████████| 500/500 [00:00<00:00, 936.73it/s, 15 steps of size 1.01e-02. acc. prob=0.92] \n",
      "sample: 100%|██████████| 500/500 [00:00<00:00, 5028.92it/s, 15 steps of size 8.16e-03. acc. prob=0.93]\n",
      "sample: 100%|██████████| 500/500 [00:00<00:00, 4951.08it/s, 3 steps of size 6.09e-02. acc. prob=0.94] \n",
      "sample: 100%|██████████| 500/500 [00:00<00:00, 4965.59it/s, 31 steps of size 2.33e-02. acc. prob=0.93]\n"
     ]
    }
   ],
   "source": [
    "kernel = NUTS(partial_pooled_reg)\n",
    "mcmc = MCMC(kernel, num_warmup=200, num_samples=300, num_chains=4)\n",
    "mcmc.run(random.PRNGKey(1), data['ad_spend'], data['store_indices'], data['sales'])"
   ]
  },
  {
   "cell_type": "code",
   "execution_count": 64,
   "metadata": {},
   "outputs": [
    {
     "name": "stdout",
     "output_type": "stream",
     "text": [
      "\n",
      "                    mean       std    median      5.0%     95.0%     n_eff     r_hat\n",
      "     intercept    994.71      4.46    994.53    987.09   1001.73    497.82      1.01\n",
      "         sigma     20.77      1.48     20.68     18.29     23.02    368.32      1.01\n",
      "store_slope[0]      0.53      0.02      0.53      0.50      0.56    538.07      1.01\n",
      "store_slope[1]      0.91      0.02      0.91      0.88      0.94    603.47      1.01\n",
      "\n",
      "Number of divergences: 0\n"
     ]
    }
   ],
   "source": [
    "mcmc.print_summary()"
   ]
  },
  {
   "cell_type": "code",
   "execution_count": null,
   "metadata": {},
   "outputs": [],
   "source": []
  }
 ],
 "metadata": {
  "kernelspec": {
   "display_name": ".venv",
   "language": "python",
   "name": "python3"
  },
  "language_info": {
   "codemirror_mode": {
    "name": "ipython",
    "version": 3
   },
   "file_extension": ".py",
   "mimetype": "text/x-python",
   "name": "python",
   "nbconvert_exporter": "python",
   "pygments_lexer": "ipython3",
   "version": "3.10.13"
  }
 },
 "nbformat": 4,
 "nbformat_minor": 2
}
