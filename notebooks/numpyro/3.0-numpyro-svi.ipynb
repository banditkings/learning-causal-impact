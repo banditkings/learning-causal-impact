{
 "cells": [
  {
   "cell_type": "markdown",
   "metadata": {},
   "source": [
    "# Comparing SVI and MCMC for linear regression\n",
    "\n",
    "Simple example comparing SVI (Stochastic Variational Inference) and MCMC in NumPyro using a basic linear regression model.\n",
    "\n",
    "This example demonstrates both MCMC and SVI on a simple linear regression with just two parameters:\n",
    "\n",
    "1. `slope`: The coefficient for our linear relationship\n",
    "2. `sigma`: The observation noise\n",
    "\n",
    "Key differences between the methods:\n",
    "\n",
    "* MCMC provides full posterior samples but is typically slower\n",
    "* SVI gives approximate posterior estimates but is usually faster\n",
    "* The MCMC output gives us direct samples we can analyze\n",
    "* SVI gives us parametric distributions (in this case, normal distributions via AutoNormal guide)"
   ]
  },
  {
   "cell_type": "code",
   "execution_count": 8,
   "metadata": {},
   "outputs": [],
   "source": [
    "import numpy as np\n",
    "import numpyro\n",
    "import numpyro.distributions as dist\n",
    "from numpyro.infer import NUTS, MCMC, SVI, Trace_ELBO, autoguide, Predictive\n",
    "from jax import random\n",
    "import jax.numpy as jnp\n",
    "import matplotlib.pyplot as plt\n",
    "\n",
    "# Generate synthetic data\n",
    "def generate_data(N=100, seed=0):\n",
    "    np.random.seed(seed)\n",
    "    X = np.random.randn(N)\n",
    "    true_slope = 2.0\n",
    "    y = true_slope * X + np.random.randn(N) * 0.5\n",
    "    return X, y\n",
    "\n",
    "# Generate synthetic data\n",
    "X, y = generate_data()"
   ]
  },
  {
   "cell_type": "code",
   "execution_count": 9,
   "metadata": {},
   "outputs": [
    {
     "data": {
      "image/png": "[encoded data removed]",
      "text/plain": [
       "<Figure size 640x480 with 1 Axes>"
      ]
     },
     "metadata": {},
     "output_type": "display_data"
    }
   ],
   "source": [
    "plt.scatter(X, y)\n",
    "plt.title('Simulated Data')\n",
    "plt.xlabel('x')\n",
    "plt.ylabel('y')\n",
    "plt.tight_layout()"
   ]
  },
  {
   "cell_type": "code",
   "execution_count": 10,
   "metadata": {},
   "outputs": [],
   "source": [
    "# Define model with just two parameters: slope and noise\n",
    "def model(X, y=None):\n",
    "    # Prior for slope\n",
    "    slope = numpyro.sample(\"slope\", dist.Normal(0, 10))\n",
    "\n",
    "    # Prior for observation noise\n",
    "    sigma = numpyro.sample(\"sigma\", dist.HalfNormal(1))\n",
    "\n",
    "    # Mean prediction\n",
    "    mean = slope * X\n",
    "\n",
    "    # Likelihood\n",
    "    with numpyro.plate(\"data\", X.shape[0]):\n",
    "        numpyro.sample(\"obs\", dist.Normal(mean, sigma), obs=y)\n"
   ]
  },
  {
   "cell_type": "code",
   "execution_count": 14,
   "metadata": {},
   "outputs": [
    {
     "name": "stderr",
     "output_type": "stream",
     "text": [
      "sample: 100%|██████████| 1500/1500 [00:01<00:00, 1204.76it/s, 3 steps of size 9.31e-01. acc. prob=0.92]\n",
      "100%|██████████| 1000/1000 [00:00<00:00, 1572.40it/s, init loss: 271.8827, avg. loss [951-1000]: 83.6967]\n"
     ]
    },
    {
     "name": "stdout",
     "output_type": "stream",
     "text": [
      "\n",
      "MCMC Results:\n",
      "slope: 2.0599415 ± 0.05155591\n",
      "sigma: 0.52372783 ± 0.035647746\n",
      "\n",
      "SVI Results (from samples):\n",
      "slope: 2.0508435 ± 0.05153787\n",
      "sigma: 0.53324866 ± 0.03649885\n",
      "\n",
      "SVI Results:\n",
      "slope: 2.0530145\n",
      "sigma: 0.5316482\n"
     ]
    }
   ],
   "source": [
    "# Initialize random key\n",
    "rng_key = random.PRNGKey(0)\n",
    "rng_key, rng_key_predict = random.split(rng_key)\n",
    "\n",
    "# Run MCMC\n",
    "kernel = NUTS(model)\n",
    "mcmc = MCMC(kernel, num_warmup=500, num_samples=1000)\n",
    "mcmc.run(rng_key, X, y)\n",
    "mcmc_samples = mcmc.get_samples()\n",
    "\n",
    "# Run SVI\n",
    "guide = autoguide.AutoNormal(model)\n",
    "optimizer = numpyro.optim.Adam(step_size=0.01)\n",
    "svi = SVI(model, guide, optimizer, loss=Trace_ELBO())\n",
    "svi_result = svi.run(rng_key, 1000, X, y)\n",
    "svi_params = svi_result.params\n",
    "\n",
    "\n",
    "# Draw samples from SVI posterior\n",
    "num_samples = 1000\n",
    "predictive = Predictive(guide, params=svi_params, num_samples=num_samples)\n",
    "svi_samples = predictive(rng_key_predict)\n",
    "\n",
    "# Print results and compare\n",
    "print(\"\\nMCMC Results:\")\n",
    "print(\"slope:\", mcmc_samples[\"slope\"].mean(), \"±\", mcmc_samples[\"slope\"].std())\n",
    "print(\"sigma:\", mcmc_samples[\"sigma\"].mean(), \"±\", mcmc_samples[\"sigma\"].std())\n",
    "\n",
    "print(\"\\nSVI Results (from samples):\")\n",
    "print(\"slope:\", svi_samples[\"slope\"].mean(), \"±\", svi_samples[\"slope\"].std())\n",
    "print(\"sigma:\", svi_samples[\"sigma\"].mean(), \"±\", svi_samples[\"sigma\"].std())\n",
    "\n",
    "print(\"\\nSVI Results:\")\n",
    "means = guide.median(svi_params)\n",
    "print(\"slope:\", means[\"slope\"])\n",
    "print(\"sigma:\", means[\"sigma\"])\n",
    "\n"
   ]
  },
  {
   "cell_type": "markdown",
   "metadata": {},
   "source": [
    "The key differences in how we get posterior samples:\n",
    "\n",
    "* MCMC: Directly produces samples through the sampling process\n",
    "* SVI: \n",
    "    * First fits a parametric distribution (in this case, using AutoNormal guide). \n",
    "    * Then we can draw samples from this fitted distribution using the Predictive class\n",
    "\n",
    "The main trade-offs are:\n",
    "\n",
    "* SVI samples are drawn from an approximate posterior (usually assuming independence between parameters unless specified otherwise)\n",
    "* MCMC samples represent the \"true\" posterior but take longer to generate\n",
    "* SVI can generate new samples very quickly once fitted"
   ]
  },
  {
   "cell_type": "code",
   "execution_count": 17,
   "metadata": {},
   "outputs": [
    {
     "data": {
      "text/plain": [
       "dict_keys(['sigma', 'slope'])"
      ]
     },
     "execution_count": 17,
     "metadata": {},
     "output_type": "execute_result"
    }
   ],
   "source": [
    "svi_samples.keys()"
   ]
  },
  {
   "cell_type": "code",
   "execution_count": 18,
   "metadata": {},
   "outputs": [
    {
     "data": {
      "text/plain": [
       "(1000,)"
      ]
     },
     "execution_count": 18,
     "metadata": {},
     "output_type": "execute_result"
    }
   ],
   "source": [
    "svi_samples['sigma'].shape"
   ]
  },
  {
   "cell_type": "markdown",
   "metadata": {},
   "source": []
  }
 ],
 "metadata": {
  "kernelspec": {
   "display_name": ".venv",
   "language": "python",
   "name": "python3"
  },
  "language_info": {
   "codemirror_mode": {
    "name": "ipython",
    "version": 3
   },
   "file_extension": ".py",
   "mimetype": "text/x-python",
   "name": "python",
   "nbconvert_exporter": "python",
   "pygments_lexer": "ipython3",
   "version": "3.10.13"
  }
 },
 "nbformat": 4,
 "nbformat_minor": 2
}
